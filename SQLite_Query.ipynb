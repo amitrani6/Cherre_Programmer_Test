{
 "cells": [
  {
   "cell_type": "code",
   "execution_count": 1,
   "metadata": {},
   "outputs": [],
   "source": [
    "# Imports the necessary libraries\n",
    "import sqlite3\n",
    "import pandas as pd"
   ]
  },
  {
   "cell_type": "code",
   "execution_count": 2,
   "metadata": {},
   "outputs": [],
   "source": [
    "# Create the connection to the database and a cursor\n",
    "connection = sqlite3.connect(r'ProgrammerTest/testdb.db')\n",
    "cursor = connection.cursor()"
   ]
  },
  {
   "cell_type": "code",
   "execution_count": 3,
   "metadata": {},
   "outputs": [],
   "source": [
    "# Obtains the names of the tables in 'test.db'\n",
    "cursor.execute(\"SELECT name FROM sqlite_master WHERE type='table' ORDER BY name;\")\n",
    "available_tables = (cursor.fetchall())"
   ]
  },
  {
   "cell_type": "code",
   "execution_count": 4,
   "metadata": {},
   "outputs": [
    {
     "name": "stdout",
     "output_type": "stream",
     "text": [
      "('frequent_browsers',)\n",
      "('people',)\n",
      "('sites',)\n",
      "('sqlite_sequence',)\n",
      "('visits',)\n"
     ]
    }
   ],
   "source": [
    "# Prints the table names\n",
    "for i in available_tables:\n",
    "    print(i)"
   ]
  },
  {
   "cell_type": "code",
   "execution_count": 5,
   "metadata": {},
   "outputs": [],
   "source": [
    "# This function returns the queried contents of a table\n",
    "# The wildcard '*' can be given as an argument\n",
    "\n",
    "def print_table_contents(table_name, query, database = connection):\n",
    "    cursor = database.cursor()\n",
    "    cursor.execute(\"SELECT {} FROM {};\".format(query, table_name))\n",
    "    return cursor.fetchall()\n"
   ]
  },
  {
   "cell_type": "code",
   "execution_count": 6,
   "metadata": {},
   "outputs": [],
   "source": [
    "# This function takes in a SQL query and returns the result\n",
    "# as a pandas dataframe\n",
    "\n",
    "def create_pandas_table(sql_query, database = connection):\n",
    "    table = pd.read_sql_query(sql_query, database)\n",
    "    return table"
   ]
  },
  {
   "cell_type": "markdown",
   "metadata": {},
   "source": [
    "# Table Schemas and Contents"
   ]
  },
  {
   "cell_type": "markdown",
   "metadata": {},
   "source": [
    "## Table 1: frequent_browsers"
   ]
  },
  {
   "cell_type": "code",
   "execution_count": 7,
   "metadata": {},
   "outputs": [
    {
     "data": {
      "text/plain": [
       "[]"
      ]
     },
     "execution_count": 7,
     "metadata": {},
     "output_type": "execute_result"
    }
   ],
   "source": [
    "# CREATE TABLE frequent_browsers\n",
    "# (\n",
    "# \tperson_id int not null\n",
    "# \t\tconstraint frequent_browsers_people_id_fk\n",
    "# \t\t\treferences people,\n",
    "# \tnum_sites_visited int not null\n",
    "# );\n",
    "\n",
    "print_table_contents('frequent_browsers', '*')"
   ]
  },
  {
   "cell_type": "code",
   "execution_count": 8,
   "metadata": {
    "scrolled": true
   },
   "outputs": [
    {
     "data": {
      "text/html": [
       "<div>\n",
       "<style scoped>\n",
       "    .dataframe tbody tr th:only-of-type {\n",
       "        vertical-align: middle;\n",
       "    }\n",
       "\n",
       "    .dataframe tbody tr th {\n",
       "        vertical-align: top;\n",
       "    }\n",
       "\n",
       "    .dataframe thead th {\n",
       "        text-align: right;\n",
       "    }\n",
       "</style>\n",
       "<table border=\"1\" class=\"dataframe\">\n",
       "  <thead>\n",
       "    <tr style=\"text-align: right;\">\n",
       "      <th></th>\n",
       "      <th>person_id</th>\n",
       "      <th>num_sites_visited</th>\n",
       "    </tr>\n",
       "  </thead>\n",
       "  <tbody>\n",
       "  </tbody>\n",
       "</table>\n",
       "</div>"
      ],
      "text/plain": [
       "Empty DataFrame\n",
       "Columns: [person_id, num_sites_visited]\n",
       "Index: []"
      ]
     },
     "execution_count": 8,
     "metadata": {},
     "output_type": "execute_result"
    }
   ],
   "source": [
    "create_pandas_table('''SELECT * from frequent_browsers;''')"
   ]
  },
  {
   "cell_type": "markdown",
   "metadata": {},
   "source": [
    "## Table 2: people"
   ]
  },
  {
   "cell_type": "code",
   "execution_count": 9,
   "metadata": {},
   "outputs": [
    {
     "name": "stdout",
     "output_type": "stream",
     "text": [
      "[(1, 'Terrance', 'Ta'), (2, 'Annabelle', 'Guttierrez'), (3, 'Terri', 'Alli'), (4, 'Genevie', 'Digby'), (5, 'Leann', 'Lindon'), (6, 'Alvin', 'Bergey'), (7, 'Aaron', 'Laubscher'), (8, 'Yon', 'Kubat'), (9, 'Lavera', 'Beliveau'), (10, 'Theola', 'Anton'), (11, 'Shayla', 'Brunner'), (12, 'Sung', 'Aitchison'), (13, 'Bart', 'Sowell'), (14, 'Joselyn', 'Navarette'), (15, 'Temeka', 'Welke'), (16, 'Lin', 'Kenton'), (17, 'Arlie', 'Hewitt'), (18, 'Fredia', 'Gammill'), (19, 'Alena', 'Jacobson'), (20, 'Susy', 'Sheckler'), (21, 'Franklyn', 'Marceau'), (22, 'Gwyn', 'Grasser'), (23, 'Macy', 'Holdaway'), (24, 'Jodi', 'Razo'), (25, 'Cruz', 'Russom'), (26, 'Eugena', 'Hanning'), (27, 'Nicki', 'Donato'), (28, 'Jaimee', 'Siniard'), (29, 'Donnell', 'Mcelrath'), (30, 'Alena', 'Jacobson')]\n"
     ]
    }
   ],
   "source": [
    "# CREATE TABLE people\n",
    "# (\n",
    "# \tid integer\n",
    "# \t\tconstraint people_pk\n",
    "# \t\t\tprimary key autoincrement,\n",
    "# \tfirst_name varchar(50) not null,\n",
    "# \tlast_name varchar(50) not null\n",
    "# );\n",
    "\n",
    "print(print_table_contents('people', '*'))"
   ]
  },
  {
   "cell_type": "code",
   "execution_count": 10,
   "metadata": {},
   "outputs": [
    {
     "data": {
      "text/html": [
       "<div>\n",
       "<style scoped>\n",
       "    .dataframe tbody tr th:only-of-type {\n",
       "        vertical-align: middle;\n",
       "    }\n",
       "\n",
       "    .dataframe tbody tr th {\n",
       "        vertical-align: top;\n",
       "    }\n",
       "\n",
       "    .dataframe thead th {\n",
       "        text-align: right;\n",
       "    }\n",
       "</style>\n",
       "<table border=\"1\" class=\"dataframe\">\n",
       "  <thead>\n",
       "    <tr style=\"text-align: right;\">\n",
       "      <th></th>\n",
       "      <th>id</th>\n",
       "      <th>first_name</th>\n",
       "      <th>last_name</th>\n",
       "    </tr>\n",
       "  </thead>\n",
       "  <tbody>\n",
       "    <tr>\n",
       "      <th>0</th>\n",
       "      <td>1</td>\n",
       "      <td>Terrance</td>\n",
       "      <td>Ta</td>\n",
       "    </tr>\n",
       "    <tr>\n",
       "      <th>1</th>\n",
       "      <td>2</td>\n",
       "      <td>Annabelle</td>\n",
       "      <td>Guttierrez</td>\n",
       "    </tr>\n",
       "    <tr>\n",
       "      <th>2</th>\n",
       "      <td>3</td>\n",
       "      <td>Terri</td>\n",
       "      <td>Alli</td>\n",
       "    </tr>\n",
       "    <tr>\n",
       "      <th>3</th>\n",
       "      <td>4</td>\n",
       "      <td>Genevie</td>\n",
       "      <td>Digby</td>\n",
       "    </tr>\n",
       "    <tr>\n",
       "      <th>4</th>\n",
       "      <td>5</td>\n",
       "      <td>Leann</td>\n",
       "      <td>Lindon</td>\n",
       "    </tr>\n",
       "  </tbody>\n",
       "</table>\n",
       "</div>"
      ],
      "text/plain": [
       "   id first_name   last_name\n",
       "0   1   Terrance          Ta\n",
       "1   2  Annabelle  Guttierrez\n",
       "2   3      Terri        Alli\n",
       "3   4    Genevie       Digby\n",
       "4   5      Leann      Lindon"
      ]
     },
     "execution_count": 10,
     "metadata": {},
     "output_type": "execute_result"
    }
   ],
   "source": [
    "people = create_pandas_table('''SELECT * from people;''')\n",
    "people.head()"
   ]
  },
  {
   "cell_type": "markdown",
   "metadata": {},
   "source": [
    "## Table 3: sites"
   ]
  },
  {
   "cell_type": "code",
   "execution_count": 11,
   "metadata": {
    "scrolled": true
   },
   "outputs": [
    {
     "name": "stdout",
     "output_type": "stream",
     "text": [
      "[(1, 'youtube.com'), (2, 'facebook.com'), (3, 'baidu.com'), (4, 'yahoo.com'), (5, 'amazon.com'), (6, 'wikipedia.org'), (7, 'qq.com'), (8, 'google.co.in'), (9, 'twitter.com'), (10, 'live.com'), (11, 'taobao.com'), (12, 'bing.com'), (13, 'instagram.com'), (14, 'weibo.com'), (15, 'sina.com.cn'), (16, 'linkedin.com'), (17, 'yahoo.co.jp'), (18, 'msn.com'), (19, 'vk.com'), (20, 'google.de'), (21, 'yandex.ru'), (22, 'hao123.com'), (23, 'google.co.uk'), (24, 'reddit.com'), (25, 'ebay.com'), (26, 'google.fr'), (27, 't.co'), (28, 'tmall.com'), (29, 'google.com.br'), (30, '360.cn'), (31, 'sohu.com'), (32, 'amazon.co.jp'), (33, 'pinterest.com'), (34, 'netflix.com'), (35, 'google.it'), (36, 'google.ru'), (37, 'microsoft.com'), (38, 'google.es'), (39, 'wordpress.com'), (40, 'gmw.cn'), (41, 'tumblr.com'), (42, 'paypal.com'), (43, 'blogspot.com'), (44, 'imgur.com'), (45, 'stackoverflow.com'), (46, 'aliexpress.com'), (47, 'naver.com'), (48, 'ok.ru'), (49, 'apple.com'), (50, 'github.com'), (51, 'chinadaily.com.cn'), (52, 'imdb.com'), (53, 'google.co.kr'), (54, 'fc2.com'), (55, 'jd.com'), (56, 'blogger.com'), (57, '163.com'), (58, 'google.ca'), (59, 'whatsapp.com'), (60, 'amazon.in'), (61, 'office.com'), (62, 'tianya.cn'), (63, 'google.co.id'), (64, 'youku.com'), (65, 'rakuten.co.jp'), (66, 'craigslist.org'), (67, 'amazon.de'), (68, 'nicovideo.jp'), (69, 'google.pl'), (70, 'soso.com'), (71, 'bilibili.com'), (72, 'dropbox.com'), (73, 'xinhuanet.com'), (74, 'outbrain.com'), (75, 'pixnet.net'), (76, 'alibaba.com'), (77, 'alipay.com'), (78, 'microsoftonline.com'), (79, 'booking.com'), (80, 'googleusercontent.com'), (81, 'google.com.au'), (82, 'popads.net'), (83, 'cntv.cn'), (84, 'zhihu.com'), (85, 'amazon.co.uk'), (86, 'diply.com'), (87, 'coccoc.com'), (88, 'cnn.com'), (89, 'bbc.co.uk'), (90, 'twitch.tv'), (91, 'wikia.com'), (92, 'google.co.th'), (93, 'go.com'), (94, 'google.com.ph'), (95, 'doubleclick.net'), (96, 'onet.pl'), (97, 'googleadservices.com'), (98, 'accuweather.com'), (99, 'googleweblight.com'), (100, 'answers.yahoo.com')]\n"
     ]
    }
   ],
   "source": [
    "# CREATE TABLE sites (\n",
    "#   id INTEGER PRIMARY KEY AUTOINCREMENT,\n",
    "#   url varchar(255) NOT NULL\n",
    "# );\n",
    "\n",
    "print(print_table_contents('sites', '*'))"
   ]
  },
  {
   "cell_type": "code",
   "execution_count": 12,
   "metadata": {
    "scrolled": false
   },
   "outputs": [
    {
     "data": {
      "text/html": [
       "<div>\n",
       "<style scoped>\n",
       "    .dataframe tbody tr th:only-of-type {\n",
       "        vertical-align: middle;\n",
       "    }\n",
       "\n",
       "    .dataframe tbody tr th {\n",
       "        vertical-align: top;\n",
       "    }\n",
       "\n",
       "    .dataframe thead th {\n",
       "        text-align: right;\n",
       "    }\n",
       "</style>\n",
       "<table border=\"1\" class=\"dataframe\">\n",
       "  <thead>\n",
       "    <tr style=\"text-align: right;\">\n",
       "      <th></th>\n",
       "      <th>id</th>\n",
       "      <th>url</th>\n",
       "    </tr>\n",
       "  </thead>\n",
       "  <tbody>\n",
       "    <tr>\n",
       "      <th>0</th>\n",
       "      <td>1</td>\n",
       "      <td>youtube.com</td>\n",
       "    </tr>\n",
       "    <tr>\n",
       "      <th>1</th>\n",
       "      <td>2</td>\n",
       "      <td>facebook.com</td>\n",
       "    </tr>\n",
       "    <tr>\n",
       "      <th>2</th>\n",
       "      <td>3</td>\n",
       "      <td>baidu.com</td>\n",
       "    </tr>\n",
       "    <tr>\n",
       "      <th>3</th>\n",
       "      <td>4</td>\n",
       "      <td>yahoo.com</td>\n",
       "    </tr>\n",
       "    <tr>\n",
       "      <th>4</th>\n",
       "      <td>5</td>\n",
       "      <td>amazon.com</td>\n",
       "    </tr>\n",
       "  </tbody>\n",
       "</table>\n",
       "</div>"
      ],
      "text/plain": [
       "   id           url\n",
       "0   1   youtube.com\n",
       "1   2  facebook.com\n",
       "2   3     baidu.com\n",
       "3   4     yahoo.com\n",
       "4   5    amazon.com"
      ]
     },
     "execution_count": 12,
     "metadata": {},
     "output_type": "execute_result"
    }
   ],
   "source": [
    "create_pandas_table('''SELECT * from sites;''').head()"
   ]
  },
  {
   "cell_type": "markdown",
   "metadata": {},
   "source": [
    "## Table 4: sqlite_sequence"
   ]
  },
  {
   "cell_type": "code",
   "execution_count": 13,
   "metadata": {
    "scrolled": true
   },
   "outputs": [
    {
     "name": "stdout",
     "output_type": "stream",
     "text": [
      "[('people', 30), ('sites', 100)]\n"
     ]
    }
   ],
   "source": [
    "# CREATE TABLE sqlite_sequence(name,seq);\n",
    "\n",
    "print(print_table_contents('sqlite_sequence', '*'))"
   ]
  },
  {
   "cell_type": "code",
   "execution_count": 14,
   "metadata": {
    "scrolled": true
   },
   "outputs": [
    {
     "data": {
      "text/html": [
       "<div>\n",
       "<style scoped>\n",
       "    .dataframe tbody tr th:only-of-type {\n",
       "        vertical-align: middle;\n",
       "    }\n",
       "\n",
       "    .dataframe tbody tr th {\n",
       "        vertical-align: top;\n",
       "    }\n",
       "\n",
       "    .dataframe thead th {\n",
       "        text-align: right;\n",
       "    }\n",
       "</style>\n",
       "<table border=\"1\" class=\"dataframe\">\n",
       "  <thead>\n",
       "    <tr style=\"text-align: right;\">\n",
       "      <th></th>\n",
       "      <th>name</th>\n",
       "      <th>seq</th>\n",
       "    </tr>\n",
       "  </thead>\n",
       "  <tbody>\n",
       "    <tr>\n",
       "      <th>0</th>\n",
       "      <td>people</td>\n",
       "      <td>30</td>\n",
       "    </tr>\n",
       "    <tr>\n",
       "      <th>1</th>\n",
       "      <td>sites</td>\n",
       "      <td>100</td>\n",
       "    </tr>\n",
       "  </tbody>\n",
       "</table>\n",
       "</div>"
      ],
      "text/plain": [
       "     name  seq\n",
       "0  people   30\n",
       "1   sites  100"
      ]
     },
     "execution_count": 14,
     "metadata": {},
     "output_type": "execute_result"
    }
   ],
   "source": [
    "create_pandas_table('''SELECT * from sqlite_sequence;''').head()"
   ]
  },
  {
   "cell_type": "markdown",
   "metadata": {},
   "source": [
    "## Table 5: visits"
   ]
  },
  {
   "cell_type": "code",
   "execution_count": 15,
   "metadata": {
    "scrolled": true
   },
   "outputs": [
    {
     "name": "stdout",
     "output_type": "stream",
     "text": [
      "Number of entries in 'visits' table: 306\n"
     ]
    }
   ],
   "source": [
    "#CREATE TABLE IF NOT EXISTS \"visits\"\n",
    "# (\n",
    "# \tpersonId int\n",
    "# \t\tconstraint people_fk\n",
    "# \t\t\treferences people (id),\n",
    "# \tsiteId int not null\n",
    "# \t\tconstraint sites_fk\n",
    "# \t\t\treferences sites (id),\n",
    "# \ttime_visited datetime\n",
    "# );\n",
    "\n",
    "print(\"Number of entries in 'visits' table:\", len(create_pandas_table('''SELECT * from visits;''')))"
   ]
  },
  {
   "cell_type": "code",
   "execution_count": 16,
   "metadata": {
    "scrolled": false
   },
   "outputs": [
    {
     "name": "stdout",
     "output_type": "stream",
     "text": [
      "<class 'pandas.core.frame.DataFrame'>\n",
      "RangeIndex: 306 entries, 0 to 305\n",
      "Data columns (total 3 columns):\n",
      "personId        306 non-null int64\n",
      "siteId          306 non-null int64\n",
      "time_visited    306 non-null object\n",
      "dtypes: int64(2), object(1)\n",
      "memory usage: 7.2+ KB\n"
     ]
    }
   ],
   "source": [
    "visits = create_pandas_table('''SELECT * from visits;''')\n",
    "visits.info()"
   ]
  },
  {
   "cell_type": "code",
   "execution_count": 17,
   "metadata": {
    "scrolled": false
   },
   "outputs": [
    {
     "data": {
      "text/html": [
       "<div>\n",
       "<style scoped>\n",
       "    .dataframe tbody tr th:only-of-type {\n",
       "        vertical-align: middle;\n",
       "    }\n",
       "\n",
       "    .dataframe tbody tr th {\n",
       "        vertical-align: top;\n",
       "    }\n",
       "\n",
       "    .dataframe thead th {\n",
       "        text-align: right;\n",
       "    }\n",
       "</style>\n",
       "<table border=\"1\" class=\"dataframe\">\n",
       "  <thead>\n",
       "    <tr style=\"text-align: right;\">\n",
       "      <th></th>\n",
       "      <th>personId</th>\n",
       "      <th>siteId</th>\n",
       "      <th>time_visited</th>\n",
       "    </tr>\n",
       "  </thead>\n",
       "  <tbody>\n",
       "    <tr>\n",
       "      <th>0</th>\n",
       "      <td>17</td>\n",
       "      <td>41</td>\n",
       "      <td>2005-08-23 03:52:02</td>\n",
       "    </tr>\n",
       "    <tr>\n",
       "      <th>1</th>\n",
       "      <td>6</td>\n",
       "      <td>58</td>\n",
       "      <td>2015-08-25 09:03:46</td>\n",
       "    </tr>\n",
       "    <tr>\n",
       "      <th>2</th>\n",
       "      <td>3</td>\n",
       "      <td>98</td>\n",
       "      <td>2007-04-01 23:14:45</td>\n",
       "    </tr>\n",
       "    <tr>\n",
       "      <th>3</th>\n",
       "      <td>0</td>\n",
       "      <td>52</td>\n",
       "      <td>2007-12-08 13:28:58</td>\n",
       "    </tr>\n",
       "    <tr>\n",
       "      <th>4</th>\n",
       "      <td>6</td>\n",
       "      <td>37</td>\n",
       "      <td>2013-02-21 21:12:10</td>\n",
       "    </tr>\n",
       "  </tbody>\n",
       "</table>\n",
       "</div>"
      ],
      "text/plain": [
       "   personId  siteId         time_visited\n",
       "0        17      41  2005-08-23 03:52:02\n",
       "1         6      58  2015-08-25 09:03:46\n",
       "2         3      98  2007-04-01 23:14:45\n",
       "3         0      52  2007-12-08 13:28:58\n",
       "4         6      37  2013-02-21 21:12:10"
      ]
     },
     "execution_count": 17,
     "metadata": {},
     "output_type": "execute_result"
    }
   ],
   "source": [
    "visits.head()"
   ]
  },
  {
   "cell_type": "markdown",
   "metadata": {},
   "source": [
    "# The Query\n",
    "## Instructions\n",
    "Given the attached SQLiteDB (testdb.db), make a program in any language which does the following:\n",
    "1. find the ten people who have visited the most sites\n",
    "2. list these people in descending order of the number of sites they've visited in a table called FrequentBrowsers\n",
    "3. upload your solution, along with instructions on how to run it, to a public repository on GitHub\n",
    "4. email the repository link to Cherre"
   ]
  },
  {
   "cell_type": "code",
   "execution_count": 19,
   "metadata": {
    "scrolled": true
   },
   "outputs": [
    {
     "data": {
      "text/html": [
       "<div>\n",
       "<style scoped>\n",
       "    .dataframe tbody tr th:only-of-type {\n",
       "        vertical-align: middle;\n",
       "    }\n",
       "\n",
       "    .dataframe tbody tr th {\n",
       "        vertical-align: top;\n",
       "    }\n",
       "\n",
       "    .dataframe thead th {\n",
       "        text-align: right;\n",
       "    }\n",
       "</style>\n",
       "<table border=\"1\" class=\"dataframe\">\n",
       "  <thead>\n",
       "    <tr style=\"text-align: right;\">\n",
       "      <th></th>\n",
       "      <th>personId</th>\n",
       "      <th>siteId</th>\n",
       "      <th>COUNT(DISTINCT personId)</th>\n",
       "    </tr>\n",
       "  </thead>\n",
       "  <tbody>\n",
       "    <tr>\n",
       "      <th>0</th>\n",
       "      <td>0</td>\n",
       "      <td>0</td>\n",
       "      <td>1</td>\n",
       "    </tr>\n",
       "    <tr>\n",
       "      <th>1</th>\n",
       "      <td>0</td>\n",
       "      <td>7</td>\n",
       "      <td>1</td>\n",
       "    </tr>\n",
       "    <tr>\n",
       "      <th>2</th>\n",
       "      <td>0</td>\n",
       "      <td>9</td>\n",
       "      <td>1</td>\n",
       "    </tr>\n",
       "    <tr>\n",
       "      <th>3</th>\n",
       "      <td>0</td>\n",
       "      <td>36</td>\n",
       "      <td>1</td>\n",
       "    </tr>\n",
       "    <tr>\n",
       "      <th>4</th>\n",
       "      <td>0</td>\n",
       "      <td>47</td>\n",
       "      <td>1</td>\n",
       "    </tr>\n",
       "    <tr>\n",
       "      <th>5</th>\n",
       "      <td>0</td>\n",
       "      <td>52</td>\n",
       "      <td>1</td>\n",
       "    </tr>\n",
       "    <tr>\n",
       "      <th>6</th>\n",
       "      <td>0</td>\n",
       "      <td>71</td>\n",
       "      <td>1</td>\n",
       "    </tr>\n",
       "    <tr>\n",
       "      <th>7</th>\n",
       "      <td>0</td>\n",
       "      <td>92</td>\n",
       "      <td>1</td>\n",
       "    </tr>\n",
       "    <tr>\n",
       "      <th>8</th>\n",
       "      <td>1</td>\n",
       "      <td>1</td>\n",
       "      <td>1</td>\n",
       "    </tr>\n",
       "    <tr>\n",
       "      <th>9</th>\n",
       "      <td>1</td>\n",
       "      <td>7</td>\n",
       "      <td>1</td>\n",
       "    </tr>\n",
       "  </tbody>\n",
       "</table>\n",
       "</div>"
      ],
      "text/plain": [
       "   personId  siteId  COUNT(DISTINCT personId)\n",
       "0         0       0                         1\n",
       "1         0       7                         1\n",
       "2         0       9                         1\n",
       "3         0      36                         1\n",
       "4         0      47                         1\n",
       "5         0      52                         1\n",
       "6         0      71                         1\n",
       "7         0      92                         1\n",
       "8         1       1                         1\n",
       "9         1       7                         1"
      ]
     },
     "execution_count": 19,
     "metadata": {},
     "output_type": "execute_result"
    }
   ],
   "source": [
    "# I group the 'personId' and 'siteId' columns from the visits table to see\n",
    "# which unique sites each person visits\n",
    "\n",
    "command_1 = '''SELECT visits.personId, visits.siteId, COUNT(DISTINCT personId) FROM visits\n",
    "            GROUP BY visits.personId, visits.siteId;'''\n",
    "create_pandas_table(command_1).head(10)"
   ]
  },
  {
   "cell_type": "code",
   "execution_count": 43,
   "metadata": {},
   "outputs": [
    {
     "data": {
      "text/html": [
       "<div>\n",
       "<style scoped>\n",
       "    .dataframe tbody tr th:only-of-type {\n",
       "        vertical-align: middle;\n",
       "    }\n",
       "\n",
       "    .dataframe tbody tr th {\n",
       "        vertical-align: top;\n",
       "    }\n",
       "\n",
       "    .dataframe thead th {\n",
       "        text-align: right;\n",
       "    }\n",
       "</style>\n",
       "<table border=\"1\" class=\"dataframe\">\n",
       "  <thead>\n",
       "    <tr style=\"text-align: right;\">\n",
       "      <th></th>\n",
       "      <th>personId</th>\n",
       "      <th>unique_site_visits</th>\n",
       "    </tr>\n",
       "  </thead>\n",
       "  <tbody>\n",
       "    <tr>\n",
       "      <th>0</th>\n",
       "      <td>30</td>\n",
       "      <td>23</td>\n",
       "    </tr>\n",
       "    <tr>\n",
       "      <th>1</th>\n",
       "      <td>19</td>\n",
       "      <td>16</td>\n",
       "    </tr>\n",
       "    <tr>\n",
       "      <th>2</th>\n",
       "      <td>3</td>\n",
       "      <td>15</td>\n",
       "    </tr>\n",
       "    <tr>\n",
       "      <th>3</th>\n",
       "      <td>6</td>\n",
       "      <td>15</td>\n",
       "    </tr>\n",
       "    <tr>\n",
       "      <th>4</th>\n",
       "      <td>2</td>\n",
       "      <td>13</td>\n",
       "    </tr>\n",
       "    <tr>\n",
       "      <th>5</th>\n",
       "      <td>14</td>\n",
       "      <td>12</td>\n",
       "    </tr>\n",
       "    <tr>\n",
       "      <th>6</th>\n",
       "      <td>26</td>\n",
       "      <td>12</td>\n",
       "    </tr>\n",
       "    <tr>\n",
       "      <th>7</th>\n",
       "      <td>9</td>\n",
       "      <td>11</td>\n",
       "    </tr>\n",
       "    <tr>\n",
       "      <th>8</th>\n",
       "      <td>11</td>\n",
       "      <td>11</td>\n",
       "    </tr>\n",
       "    <tr>\n",
       "      <th>9</th>\n",
       "      <td>15</td>\n",
       "      <td>11</td>\n",
       "    </tr>\n",
       "  </tbody>\n",
       "</table>\n",
       "</div>"
      ],
      "text/plain": [
       "   personId  unique_site_visits\n",
       "0        30                  23\n",
       "1        19                  16\n",
       "2         3                  15\n",
       "3         6                  15\n",
       "4         2                  13\n",
       "5        14                  12\n",
       "6        26                  12\n",
       "7         9                  11\n",
       "8        11                  11\n",
       "9        15                  11"
      ]
     },
     "execution_count": 43,
     "metadata": {},
     "output_type": "execute_result"
    }
   ],
   "source": [
    "command_1_b = '''SELECT personId, SUM(unique_sites) AS unique_site_visits FROM(\n",
    "                SELECT personId, COUNT(DISTINCT personId) AS unique_sites FROM visits\n",
    "                GROUP BY personId, siteId\n",
    "                )\n",
    "                GROUP BY personId\n",
    "                ORDER BY unique_site_visits DESC\n",
    "                    LIMIT 10;'''\n",
    "create_pandas_table(command_1_b).head(10)\n",
    "\n"
   ]
  },
  {
   "cell_type": "code",
   "execution_count": 44,
   "metadata": {
    "scrolled": false
   },
   "outputs": [
    {
     "data": {
      "text/html": [
       "<div>\n",
       "<style scoped>\n",
       "    .dataframe tbody tr th:only-of-type {\n",
       "        vertical-align: middle;\n",
       "    }\n",
       "\n",
       "    .dataframe tbody tr th {\n",
       "        vertical-align: top;\n",
       "    }\n",
       "\n",
       "    .dataframe thead th {\n",
       "        text-align: right;\n",
       "    }\n",
       "</style>\n",
       "<table border=\"1\" class=\"dataframe\">\n",
       "  <thead>\n",
       "    <tr style=\"text-align: right;\">\n",
       "      <th></th>\n",
       "      <th>personId</th>\n",
       "      <th>unique_sites</th>\n",
       "    </tr>\n",
       "  </thead>\n",
       "  <tbody>\n",
       "    <tr>\n",
       "      <th>0</th>\n",
       "      <td>0</td>\n",
       "      <td>1</td>\n",
       "    </tr>\n",
       "    <tr>\n",
       "      <th>1</th>\n",
       "      <td>0</td>\n",
       "      <td>1</td>\n",
       "    </tr>\n",
       "    <tr>\n",
       "      <th>2</th>\n",
       "      <td>0</td>\n",
       "      <td>1</td>\n",
       "    </tr>\n",
       "    <tr>\n",
       "      <th>3</th>\n",
       "      <td>0</td>\n",
       "      <td>1</td>\n",
       "    </tr>\n",
       "    <tr>\n",
       "      <th>4</th>\n",
       "      <td>0</td>\n",
       "      <td>1</td>\n",
       "    </tr>\n",
       "    <tr>\n",
       "      <th>5</th>\n",
       "      <td>0</td>\n",
       "      <td>1</td>\n",
       "    </tr>\n",
       "    <tr>\n",
       "      <th>6</th>\n",
       "      <td>0</td>\n",
       "      <td>1</td>\n",
       "    </tr>\n",
       "    <tr>\n",
       "      <th>7</th>\n",
       "      <td>0</td>\n",
       "      <td>1</td>\n",
       "    </tr>\n",
       "    <tr>\n",
       "      <th>8</th>\n",
       "      <td>1</td>\n",
       "      <td>1</td>\n",
       "    </tr>\n",
       "    <tr>\n",
       "      <th>9</th>\n",
       "      <td>1</td>\n",
       "      <td>1</td>\n",
       "    </tr>\n",
       "  </tbody>\n",
       "</table>\n",
       "</div>"
      ],
      "text/plain": [
       "   personId  unique_sites\n",
       "0         0             1\n",
       "1         0             1\n",
       "2         0             1\n",
       "3         0             1\n",
       "4         0             1\n",
       "5         0             1\n",
       "6         0             1\n",
       "7         0             1\n",
       "8         1             1\n",
       "9         1             1"
      ]
     },
     "execution_count": 44,
     "metadata": {},
     "output_type": "execute_result"
    }
   ],
   "source": [
    "command_2 = '''SELECT visits.personId, COUNT(DISTINCT siteId) AS unique_sites FROM visits\n",
    "            GROUP BY visits.personId, visits.siteId;'''\n",
    "\n",
    "\n",
    "create_pandas_table(command_2).head(10)\n"
   ]
  },
  {
   "cell_type": "code",
   "execution_count": 45,
   "metadata": {},
   "outputs": [
    {
     "data": {
      "text/plain": [
       "<sqlite3.Cursor at 0x115fe3880>"
      ]
     },
     "execution_count": 45,
     "metadata": {},
     "output_type": "execute_result"
    }
   ],
   "source": [
    "# I create a new table given the information from before\n",
    "command_3 = '''CREATE TABLE unique_counts AS\n",
    "                SELECT visits.personId, COUNT(DISTINCT siteId) AS unique_sites FROM visits\n",
    "                GROUP BY visits.personId, visits.siteId;'''\n",
    "cursor.execute(command_3)"
   ]
  },
  {
   "cell_type": "code",
   "execution_count": 46,
   "metadata": {},
   "outputs": [
    {
     "data": {
      "text/html": [
       "<div>\n",
       "<style scoped>\n",
       "    .dataframe tbody tr th:only-of-type {\n",
       "        vertical-align: middle;\n",
       "    }\n",
       "\n",
       "    .dataframe tbody tr th {\n",
       "        vertical-align: top;\n",
       "    }\n",
       "\n",
       "    .dataframe thead th {\n",
       "        text-align: right;\n",
       "    }\n",
       "</style>\n",
       "<table border=\"1\" class=\"dataframe\">\n",
       "  <thead>\n",
       "    <tr style=\"text-align: right;\">\n",
       "      <th></th>\n",
       "      <th>id</th>\n",
       "      <th>first_name</th>\n",
       "      <th>last_name</th>\n",
       "      <th>unique_site_visits</th>\n",
       "    </tr>\n",
       "  </thead>\n",
       "  <tbody>\n",
       "    <tr>\n",
       "      <th>0</th>\n",
       "      <td>30</td>\n",
       "      <td>Alena</td>\n",
       "      <td>Jacobson</td>\n",
       "      <td>23</td>\n",
       "    </tr>\n",
       "    <tr>\n",
       "      <th>1</th>\n",
       "      <td>19</td>\n",
       "      <td>Alena</td>\n",
       "      <td>Jacobson</td>\n",
       "      <td>16</td>\n",
       "    </tr>\n",
       "    <tr>\n",
       "      <th>2</th>\n",
       "      <td>3</td>\n",
       "      <td>Terri</td>\n",
       "      <td>Alli</td>\n",
       "      <td>15</td>\n",
       "    </tr>\n",
       "    <tr>\n",
       "      <th>3</th>\n",
       "      <td>6</td>\n",
       "      <td>Alvin</td>\n",
       "      <td>Bergey</td>\n",
       "      <td>15</td>\n",
       "    </tr>\n",
       "    <tr>\n",
       "      <th>4</th>\n",
       "      <td>2</td>\n",
       "      <td>Annabelle</td>\n",
       "      <td>Guttierrez</td>\n",
       "      <td>13</td>\n",
       "    </tr>\n",
       "    <tr>\n",
       "      <th>5</th>\n",
       "      <td>14</td>\n",
       "      <td>Joselyn</td>\n",
       "      <td>Navarette</td>\n",
       "      <td>12</td>\n",
       "    </tr>\n",
       "    <tr>\n",
       "      <th>6</th>\n",
       "      <td>26</td>\n",
       "      <td>Eugena</td>\n",
       "      <td>Hanning</td>\n",
       "      <td>12</td>\n",
       "    </tr>\n",
       "    <tr>\n",
       "      <th>7</th>\n",
       "      <td>9</td>\n",
       "      <td>Lavera</td>\n",
       "      <td>Beliveau</td>\n",
       "      <td>11</td>\n",
       "    </tr>\n",
       "    <tr>\n",
       "      <th>8</th>\n",
       "      <td>11</td>\n",
       "      <td>Shayla</td>\n",
       "      <td>Brunner</td>\n",
       "      <td>11</td>\n",
       "    </tr>\n",
       "    <tr>\n",
       "      <th>9</th>\n",
       "      <td>15</td>\n",
       "      <td>Temeka</td>\n",
       "      <td>Welke</td>\n",
       "      <td>11</td>\n",
       "    </tr>\n",
       "  </tbody>\n",
       "</table>\n",
       "</div>"
      ],
      "text/plain": [
       "   id first_name   last_name  unique_site_visits\n",
       "0  30      Alena    Jacobson                  23\n",
       "1  19      Alena    Jacobson                  16\n",
       "2   3      Terri        Alli                  15\n",
       "3   6      Alvin      Bergey                  15\n",
       "4   2  Annabelle  Guttierrez                  13\n",
       "5  14    Joselyn   Navarette                  12\n",
       "6  26     Eugena     Hanning                  12\n",
       "7   9     Lavera    Beliveau                  11\n",
       "8  11     Shayla     Brunner                  11\n",
       "9  15     Temeka       Welke                  11"
      ]
     },
     "execution_count": 46,
     "metadata": {},
     "output_type": "execute_result"
    }
   ],
   "source": [
    "# Aggregate and join the users names from before\n",
    "command_4 = '''SELECT people.Id, people.first_name, people.last_name, COUNT(unique_counts.unique_sites) AS unique_site_visits\n",
    "                FROM unique_counts\n",
    "                JOIN people ON people.Id = unique_counts.personId\n",
    "                GROUP BY unique_counts.personID, unique_counts.unique_sites\n",
    "                ORDER BY unique_site_visits DESC\n",
    "                LIMIT 10;'''\n",
    "\n",
    "\n",
    "create_pandas_table(command_4).head(10)"
   ]
  },
  {
   "cell_type": "code",
   "execution_count": 47,
   "metadata": {},
   "outputs": [
    {
     "data": {
      "text/html": [
       "<div>\n",
       "<style scoped>\n",
       "    .dataframe tbody tr th:only-of-type {\n",
       "        vertical-align: middle;\n",
       "    }\n",
       "\n",
       "    .dataframe tbody tr th {\n",
       "        vertical-align: top;\n",
       "    }\n",
       "\n",
       "    .dataframe thead th {\n",
       "        text-align: right;\n",
       "    }\n",
       "</style>\n",
       "<table border=\"1\" class=\"dataframe\">\n",
       "  <thead>\n",
       "    <tr style=\"text-align: right;\">\n",
       "      <th></th>\n",
       "      <th>id</th>\n",
       "      <th>unique_site_visits</th>\n",
       "    </tr>\n",
       "  </thead>\n",
       "  <tbody>\n",
       "    <tr>\n",
       "      <th>0</th>\n",
       "      <td>30</td>\n",
       "      <td>23</td>\n",
       "    </tr>\n",
       "    <tr>\n",
       "      <th>1</th>\n",
       "      <td>19</td>\n",
       "      <td>16</td>\n",
       "    </tr>\n",
       "    <tr>\n",
       "      <th>2</th>\n",
       "      <td>3</td>\n",
       "      <td>15</td>\n",
       "    </tr>\n",
       "    <tr>\n",
       "      <th>3</th>\n",
       "      <td>6</td>\n",
       "      <td>15</td>\n",
       "    </tr>\n",
       "    <tr>\n",
       "      <th>4</th>\n",
       "      <td>2</td>\n",
       "      <td>13</td>\n",
       "    </tr>\n",
       "    <tr>\n",
       "      <th>5</th>\n",
       "      <td>14</td>\n",
       "      <td>12</td>\n",
       "    </tr>\n",
       "    <tr>\n",
       "      <th>6</th>\n",
       "      <td>26</td>\n",
       "      <td>12</td>\n",
       "    </tr>\n",
       "    <tr>\n",
       "      <th>7</th>\n",
       "      <td>9</td>\n",
       "      <td>11</td>\n",
       "    </tr>\n",
       "    <tr>\n",
       "      <th>8</th>\n",
       "      <td>11</td>\n",
       "      <td>11</td>\n",
       "    </tr>\n",
       "    <tr>\n",
       "      <th>9</th>\n",
       "      <td>15</td>\n",
       "      <td>11</td>\n",
       "    </tr>\n",
       "  </tbody>\n",
       "</table>\n",
       "</div>"
      ],
      "text/plain": [
       "   id  unique_site_visits\n",
       "0  30                  23\n",
       "1  19                  16\n",
       "2   3                  15\n",
       "3   6                  15\n",
       "4   2                  13\n",
       "5  14                  12\n",
       "6  26                  12\n",
       "7   9                  11\n",
       "8  11                  11\n",
       "9  15                  11"
      ]
     },
     "execution_count": 47,
     "metadata": {},
     "output_type": "execute_result"
    }
   ],
   "source": [
    "command_5 = '''SELECT people.Id, COUNT(unique_counts.unique_sites) AS unique_site_visits\n",
    "                FROM unique_counts\n",
    "                JOIN people ON people.Id = unique_counts.personId\n",
    "                GROUP BY unique_counts.personID, unique_counts.unique_sites\n",
    "                ORDER BY unique_site_visits DESC\n",
    "                LIMIT 10;'''\n",
    "create_pandas_table(command_5).head(11)"
   ]
  },
  {
   "cell_type": "code",
   "execution_count": 48,
   "metadata": {},
   "outputs": [
    {
     "data": {
      "text/plain": [
       "<sqlite3.Cursor at 0x115fe3880>"
      ]
     },
     "execution_count": 48,
     "metadata": {},
     "output_type": "execute_result"
    }
   ],
   "source": [
    "command_6 = ('''INSERT INTO frequent_browsers (person_id, num_sites_visited)\n",
    "                SELECT people.Id, COUNT(unique_counts.unique_sites) AS unique_site_visits\n",
    "                    FROM unique_counts\n",
    "                    JOIN people ON people.Id = unique_counts.personId\n",
    "                    GROUP BY unique_counts.personID, unique_counts.unique_sites\n",
    "                    ORDER BY unique_site_visits DESC\n",
    "                    LIMIT 10;''')\n",
    "\n",
    "cursor.execute(command_6)"
   ]
  },
  {
   "cell_type": "code",
   "execution_count": 49,
   "metadata": {},
   "outputs": [
    {
     "data": {
      "text/html": [
       "<div>\n",
       "<style scoped>\n",
       "    .dataframe tbody tr th:only-of-type {\n",
       "        vertical-align: middle;\n",
       "    }\n",
       "\n",
       "    .dataframe tbody tr th {\n",
       "        vertical-align: top;\n",
       "    }\n",
       "\n",
       "    .dataframe thead th {\n",
       "        text-align: right;\n",
       "    }\n",
       "</style>\n",
       "<table border=\"1\" class=\"dataframe\">\n",
       "  <thead>\n",
       "    <tr style=\"text-align: right;\">\n",
       "      <th></th>\n",
       "      <th>person_id</th>\n",
       "      <th>num_sites_visited</th>\n",
       "    </tr>\n",
       "  </thead>\n",
       "  <tbody>\n",
       "    <tr>\n",
       "      <th>0</th>\n",
       "      <td>30</td>\n",
       "      <td>23</td>\n",
       "    </tr>\n",
       "    <tr>\n",
       "      <th>1</th>\n",
       "      <td>19</td>\n",
       "      <td>16</td>\n",
       "    </tr>\n",
       "    <tr>\n",
       "      <th>2</th>\n",
       "      <td>3</td>\n",
       "      <td>15</td>\n",
       "    </tr>\n",
       "    <tr>\n",
       "      <th>3</th>\n",
       "      <td>6</td>\n",
       "      <td>15</td>\n",
       "    </tr>\n",
       "    <tr>\n",
       "      <th>4</th>\n",
       "      <td>2</td>\n",
       "      <td>13</td>\n",
       "    </tr>\n",
       "    <tr>\n",
       "      <th>5</th>\n",
       "      <td>14</td>\n",
       "      <td>12</td>\n",
       "    </tr>\n",
       "    <tr>\n",
       "      <th>6</th>\n",
       "      <td>26</td>\n",
       "      <td>12</td>\n",
       "    </tr>\n",
       "    <tr>\n",
       "      <th>7</th>\n",
       "      <td>9</td>\n",
       "      <td>11</td>\n",
       "    </tr>\n",
       "    <tr>\n",
       "      <th>8</th>\n",
       "      <td>11</td>\n",
       "      <td>11</td>\n",
       "    </tr>\n",
       "    <tr>\n",
       "      <th>9</th>\n",
       "      <td>15</td>\n",
       "      <td>11</td>\n",
       "    </tr>\n",
       "  </tbody>\n",
       "</table>\n",
       "</div>"
      ],
      "text/plain": [
       "   person_id  num_sites_visited\n",
       "0         30                 23\n",
       "1         19                 16\n",
       "2          3                 15\n",
       "3          6                 15\n",
       "4          2                 13\n",
       "5         14                 12\n",
       "6         26                 12\n",
       "7          9                 11\n",
       "8         11                 11\n",
       "9         15                 11"
      ]
     },
     "execution_count": 49,
     "metadata": {},
     "output_type": "execute_result"
    }
   ],
   "source": [
    "create_pandas_table('''SELECT * FROM frequent_browsers;''')"
   ]
  },
  {
   "cell_type": "code",
   "execution_count": null,
   "metadata": {},
   "outputs": [],
   "source": [
    "connection.commit()"
   ]
  }
 ],
 "metadata": {
  "kernelspec": {
   "display_name": "Python 3",
   "language": "python",
   "name": "python3"
  },
  "language_info": {
   "codemirror_mode": {
    "name": "ipython",
    "version": 3
   },
   "file_extension": ".py",
   "mimetype": "text/x-python",
   "name": "python",
   "nbconvert_exporter": "python",
   "pygments_lexer": "ipython3",
   "version": "3.7.2"
  }
 },
 "nbformat": 4,
 "nbformat_minor": 2
}
