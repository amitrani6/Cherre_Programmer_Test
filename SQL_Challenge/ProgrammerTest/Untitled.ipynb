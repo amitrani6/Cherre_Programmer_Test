{
 "cells": [
  {
   "cell_type": "code",
   "execution_count": 1,
   "metadata": {},
   "outputs": [],
   "source": [
    "import sqlite3\n",
    "import pandas as pd"
   ]
  },
  {
   "cell_type": "code",
   "execution_count": 2,
   "metadata": {},
   "outputs": [],
   "source": [
    "# Create the connection\n",
    "cnx = sqlite3.connect(r'testdb.db')"
   ]
  },
  {
   "cell_type": "code",
   "execution_count": 3,
   "metadata": {},
   "outputs": [
    {
     "data": {
      "text/plain": [
       "<sqlite3.Connection at 0x114739810>"
      ]
     },
     "execution_count": 3,
     "metadata": {},
     "output_type": "execute_result"
    }
   ],
   "source": [
    "cnx"
   ]
  },
  {
   "cell_type": "code",
   "execution_count": 4,
   "metadata": {},
   "outputs": [],
   "source": [
    "cursor = cnx.cursor()"
   ]
  },
  {
   "cell_type": "code",
   "execution_count": 5,
   "metadata": {},
   "outputs": [],
   "source": [
    "#https://www.sqlite.org/faq.html#q7\n",
    "cursor.execute(\"SELECT name FROM sqlite_master WHERE type='table' ORDER BY name;\")\n",
    "available_table=(cursor.fetchall())"
   ]
  },
  {
   "cell_type": "code",
   "execution_count": 6,
   "metadata": {},
   "outputs": [
    {
     "name": "stdout",
     "output_type": "stream",
     "text": [
      "('frequent_browsers',)\n",
      "('people',)\n",
      "('sites',)\n",
      "('sqlite_sequence',)\n",
      "('visits',)\n"
     ]
    }
   ],
   "source": [
    "for i in available_table:\n",
    "    print(i)"
   ]
  },
  {
   "cell_type": "code",
   "execution_count": 7,
   "metadata": {},
   "outputs": [
    {
     "name": "stdout",
     "output_type": "stream",
     "text": [
      "[('table', 'frequent_browsers', 'frequent_browsers', 6, 'CREATE TABLE frequent_browsers\\n(\\n\\tperson_id int not null\\n\\t\\tconstraint frequent_browsers_people_id_fk\\n\\t\\t\\treferences people,\\n\\tnum_sites_visited int not null\\n)')]\n"
     ]
    }
   ],
   "source": [
    "cursor.execute(\"select * from sqlite_master where name = 'frequent_browsers';\")\n",
    "print(cursor.fetchall())"
   ]
  },
  {
   "cell_type": "code",
   "execution_count": 8,
   "metadata": {},
   "outputs": [],
   "source": [
    "def print_table_contents(table_name, query, database = cnx):\n",
    "    cursor = database.cursor()\n",
    "    cursor.execute(\"SELECT {} FROM {};\".format(query, table_name))\n",
    "    return cursor.fetchall()\n"
   ]
  },
  {
   "cell_type": "code",
   "execution_count": 9,
   "metadata": {},
   "outputs": [],
   "source": [
    "def create_pandas_table(table_name, database = cnx):\n",
    "    table = pd.read_sql_query(\"SELECT * from {}\".format(table_name), database)\n",
    "    return table"
   ]
  },
  {
   "cell_type": "code",
   "execution_count": 10,
   "metadata": {},
   "outputs": [
    {
     "data": {
      "text/plain": [
       "[]"
      ]
     },
     "execution_count": 10,
     "metadata": {},
     "output_type": "execute_result"
    }
   ],
   "source": [
    "# CREATE TABLE frequent_browsers\n",
    "# (\n",
    "# \tperson_id int not null\n",
    "# \t\tconstraint frequent_browsers_people_id_fk\n",
    "# \t\t\treferences people,\n",
    "# \tnum_sites_visited int not null\n",
    "# );\n",
    "\n",
    "print_table_contents('frequent_browsers', '*')"
   ]
  },
  {
   "cell_type": "code",
   "execution_count": 11,
   "metadata": {},
   "outputs": [
    {
     "data": {
      "text/html": [
       "<div>\n",
       "<style scoped>\n",
       "    .dataframe tbody tr th:only-of-type {\n",
       "        vertical-align: middle;\n",
       "    }\n",
       "\n",
       "    .dataframe tbody tr th {\n",
       "        vertical-align: top;\n",
       "    }\n",
       "\n",
       "    .dataframe thead th {\n",
       "        text-align: right;\n",
       "    }\n",
       "</style>\n",
       "<table border=\"1\" class=\"dataframe\">\n",
       "  <thead>\n",
       "    <tr style=\"text-align: right;\">\n",
       "      <th></th>\n",
       "      <th>person_id</th>\n",
       "      <th>num_sites_visited</th>\n",
       "    </tr>\n",
       "  </thead>\n",
       "  <tbody>\n",
       "  </tbody>\n",
       "</table>\n",
       "</div>"
      ],
      "text/plain": [
       "Empty DataFrame\n",
       "Columns: [person_id, num_sites_visited]\n",
       "Index: []"
      ]
     },
     "execution_count": 11,
     "metadata": {},
     "output_type": "execute_result"
    }
   ],
   "source": [
    "create_pandas_table('frequent_browsers')"
   ]
  },
  {
   "cell_type": "code",
   "execution_count": 12,
   "metadata": {},
   "outputs": [
    {
     "name": "stdout",
     "output_type": "stream",
     "text": [
      "[(1, 'Terrance', 'Ta'), (2, 'Annabelle', 'Guttierrez'), (3, 'Terri', 'Alli'), (4, 'Genevie', 'Digby'), (5, 'Leann', 'Lindon'), (6, 'Alvin', 'Bergey'), (7, 'Aaron', 'Laubscher'), (8, 'Yon', 'Kubat'), (9, 'Lavera', 'Beliveau'), (10, 'Theola', 'Anton'), (11, 'Shayla', 'Brunner'), (12, 'Sung', 'Aitchison'), (13, 'Bart', 'Sowell'), (14, 'Joselyn', 'Navarette'), (15, 'Temeka', 'Welke'), (16, 'Lin', 'Kenton'), (17, 'Arlie', 'Hewitt'), (18, 'Fredia', 'Gammill'), (19, 'Alena', 'Jacobson'), (20, 'Susy', 'Sheckler'), (21, 'Franklyn', 'Marceau'), (22, 'Gwyn', 'Grasser'), (23, 'Macy', 'Holdaway'), (24, 'Jodi', 'Razo'), (25, 'Cruz', 'Russom'), (26, 'Eugena', 'Hanning'), (27, 'Nicki', 'Donato'), (28, 'Jaimee', 'Siniard'), (29, 'Donnell', 'Mcelrath'), (30, 'Alena', 'Jacobson')]\n"
     ]
    }
   ],
   "source": [
    "# CREATE TABLE people\n",
    "# (\n",
    "# \tid integer\n",
    "# \t\tconstraint people_pk\n",
    "# \t\t\tprimary key autoincrement,\n",
    "# \tfirst_name varchar(50) not null,\n",
    "# \tlast_name varchar(50) not null\n",
    "# );\n",
    "\n",
    "print(print_table_contents('people', '*'))"
   ]
  },
  {
   "cell_type": "code",
   "execution_count": 13,
   "metadata": {},
   "outputs": [
    {
     "data": {
      "text/html": [
       "<div>\n",
       "<style scoped>\n",
       "    .dataframe tbody tr th:only-of-type {\n",
       "        vertical-align: middle;\n",
       "    }\n",
       "\n",
       "    .dataframe tbody tr th {\n",
       "        vertical-align: top;\n",
       "    }\n",
       "\n",
       "    .dataframe thead th {\n",
       "        text-align: right;\n",
       "    }\n",
       "</style>\n",
       "<table border=\"1\" class=\"dataframe\">\n",
       "  <thead>\n",
       "    <tr style=\"text-align: right;\">\n",
       "      <th></th>\n",
       "      <th>id</th>\n",
       "      <th>first_name</th>\n",
       "      <th>last_name</th>\n",
       "    </tr>\n",
       "  </thead>\n",
       "  <tbody>\n",
       "    <tr>\n",
       "      <th>0</th>\n",
       "      <td>1</td>\n",
       "      <td>Terrance</td>\n",
       "      <td>Ta</td>\n",
       "    </tr>\n",
       "    <tr>\n",
       "      <th>1</th>\n",
       "      <td>2</td>\n",
       "      <td>Annabelle</td>\n",
       "      <td>Guttierrez</td>\n",
       "    </tr>\n",
       "    <tr>\n",
       "      <th>2</th>\n",
       "      <td>3</td>\n",
       "      <td>Terri</td>\n",
       "      <td>Alli</td>\n",
       "    </tr>\n",
       "    <tr>\n",
       "      <th>3</th>\n",
       "      <td>4</td>\n",
       "      <td>Genevie</td>\n",
       "      <td>Digby</td>\n",
       "    </tr>\n",
       "    <tr>\n",
       "      <th>4</th>\n",
       "      <td>5</td>\n",
       "      <td>Leann</td>\n",
       "      <td>Lindon</td>\n",
       "    </tr>\n",
       "  </tbody>\n",
       "</table>\n",
       "</div>"
      ],
      "text/plain": [
       "   id first_name   last_name\n",
       "0   1   Terrance          Ta\n",
       "1   2  Annabelle  Guttierrez\n",
       "2   3      Terri        Alli\n",
       "3   4    Genevie       Digby\n",
       "4   5      Leann      Lindon"
      ]
     },
     "execution_count": 13,
     "metadata": {},
     "output_type": "execute_result"
    }
   ],
   "source": [
    "people = create_pandas_table('people')\n",
    "people.head()"
   ]
  },
  {
   "cell_type": "code",
   "execution_count": 14,
   "metadata": {},
   "outputs": [
    {
     "data": {
      "text/html": [
       "<div>\n",
       "<style scoped>\n",
       "    .dataframe tbody tr th:only-of-type {\n",
       "        vertical-align: middle;\n",
       "    }\n",
       "\n",
       "    .dataframe tbody tr th {\n",
       "        vertical-align: top;\n",
       "    }\n",
       "\n",
       "    .dataframe thead th {\n",
       "        text-align: right;\n",
       "    }\n",
       "</style>\n",
       "<table border=\"1\" class=\"dataframe\">\n",
       "  <thead>\n",
       "    <tr style=\"text-align: right;\">\n",
       "      <th></th>\n",
       "      <th>personId</th>\n",
       "      <th>first_name</th>\n",
       "      <th>last_name</th>\n",
       "    </tr>\n",
       "  </thead>\n",
       "  <tbody>\n",
       "    <tr>\n",
       "      <th>0</th>\n",
       "      <td>1</td>\n",
       "      <td>Terrance</td>\n",
       "      <td>Ta</td>\n",
       "    </tr>\n",
       "    <tr>\n",
       "      <th>1</th>\n",
       "      <td>2</td>\n",
       "      <td>Annabelle</td>\n",
       "      <td>Guttierrez</td>\n",
       "    </tr>\n",
       "    <tr>\n",
       "      <th>2</th>\n",
       "      <td>3</td>\n",
       "      <td>Terri</td>\n",
       "      <td>Alli</td>\n",
       "    </tr>\n",
       "    <tr>\n",
       "      <th>3</th>\n",
       "      <td>4</td>\n",
       "      <td>Genevie</td>\n",
       "      <td>Digby</td>\n",
       "    </tr>\n",
       "    <tr>\n",
       "      <th>4</th>\n",
       "      <td>5</td>\n",
       "      <td>Leann</td>\n",
       "      <td>Lindon</td>\n",
       "    </tr>\n",
       "  </tbody>\n",
       "</table>\n",
       "</div>"
      ],
      "text/plain": [
       "   personId first_name   last_name\n",
       "0         1   Terrance          Ta\n",
       "1         2  Annabelle  Guttierrez\n",
       "2         3      Terri        Alli\n",
       "3         4    Genevie       Digby\n",
       "4         5      Leann      Lindon"
      ]
     },
     "execution_count": 14,
     "metadata": {},
     "output_type": "execute_result"
    }
   ],
   "source": [
    "people.rename(columns={'id':'personId'}, \n",
    "                 inplace=True)\n",
    "people.head()"
   ]
  },
  {
   "cell_type": "code",
   "execution_count": 15,
   "metadata": {
    "scrolled": true
   },
   "outputs": [
    {
     "name": "stdout",
     "output_type": "stream",
     "text": [
      "[(1, 'youtube.com'), (2, 'facebook.com'), (3, 'baidu.com'), (4, 'yahoo.com'), (5, 'amazon.com'), (6, 'wikipedia.org'), (7, 'qq.com'), (8, 'google.co.in'), (9, 'twitter.com'), (10, 'live.com'), (11, 'taobao.com'), (12, 'bing.com'), (13, 'instagram.com'), (14, 'weibo.com'), (15, 'sina.com.cn'), (16, 'linkedin.com'), (17, 'yahoo.co.jp'), (18, 'msn.com'), (19, 'vk.com'), (20, 'google.de'), (21, 'yandex.ru'), (22, 'hao123.com'), (23, 'google.co.uk'), (24, 'reddit.com'), (25, 'ebay.com'), (26, 'google.fr'), (27, 't.co'), (28, 'tmall.com'), (29, 'google.com.br'), (30, '360.cn'), (31, 'sohu.com'), (32, 'amazon.co.jp'), (33, 'pinterest.com'), (34, 'netflix.com'), (35, 'google.it'), (36, 'google.ru'), (37, 'microsoft.com'), (38, 'google.es'), (39, 'wordpress.com'), (40, 'gmw.cn'), (41, 'tumblr.com'), (42, 'paypal.com'), (43, 'blogspot.com'), (44, 'imgur.com'), (45, 'stackoverflow.com'), (46, 'aliexpress.com'), (47, 'naver.com'), (48, 'ok.ru'), (49, 'apple.com'), (50, 'github.com'), (51, 'chinadaily.com.cn'), (52, 'imdb.com'), (53, 'google.co.kr'), (54, 'fc2.com'), (55, 'jd.com'), (56, 'blogger.com'), (57, '163.com'), (58, 'google.ca'), (59, 'whatsapp.com'), (60, 'amazon.in'), (61, 'office.com'), (62, 'tianya.cn'), (63, 'google.co.id'), (64, 'youku.com'), (65, 'rakuten.co.jp'), (66, 'craigslist.org'), (67, 'amazon.de'), (68, 'nicovideo.jp'), (69, 'google.pl'), (70, 'soso.com'), (71, 'bilibili.com'), (72, 'dropbox.com'), (73, 'xinhuanet.com'), (74, 'outbrain.com'), (75, 'pixnet.net'), (76, 'alibaba.com'), (77, 'alipay.com'), (78, 'microsoftonline.com'), (79, 'booking.com'), (80, 'googleusercontent.com'), (81, 'google.com.au'), (82, 'popads.net'), (83, 'cntv.cn'), (84, 'zhihu.com'), (85, 'amazon.co.uk'), (86, 'diply.com'), (87, 'coccoc.com'), (88, 'cnn.com'), (89, 'bbc.co.uk'), (90, 'twitch.tv'), (91, 'wikia.com'), (92, 'google.co.th'), (93, 'go.com'), (94, 'google.com.ph'), (95, 'doubleclick.net'), (96, 'onet.pl'), (97, 'googleadservices.com'), (98, 'accuweather.com'), (99, 'googleweblight.com'), (100, 'answers.yahoo.com')]\n"
     ]
    }
   ],
   "source": [
    "# CREATE TABLE sites (\n",
    "#   id INTEGER PRIMARY KEY AUTOINCREMENT,\n",
    "#   url varchar(255) NOT NULL\n",
    "# );\n",
    "\n",
    "print(print_table_contents('sites', '*'))"
   ]
  },
  {
   "cell_type": "code",
   "execution_count": 16,
   "metadata": {},
   "outputs": [
    {
     "data": {
      "text/html": [
       "<div>\n",
       "<style scoped>\n",
       "    .dataframe tbody tr th:only-of-type {\n",
       "        vertical-align: middle;\n",
       "    }\n",
       "\n",
       "    .dataframe tbody tr th {\n",
       "        vertical-align: top;\n",
       "    }\n",
       "\n",
       "    .dataframe thead th {\n",
       "        text-align: right;\n",
       "    }\n",
       "</style>\n",
       "<table border=\"1\" class=\"dataframe\">\n",
       "  <thead>\n",
       "    <tr style=\"text-align: right;\">\n",
       "      <th></th>\n",
       "      <th>id</th>\n",
       "      <th>url</th>\n",
       "    </tr>\n",
       "  </thead>\n",
       "  <tbody>\n",
       "    <tr>\n",
       "      <th>0</th>\n",
       "      <td>1</td>\n",
       "      <td>youtube.com</td>\n",
       "    </tr>\n",
       "    <tr>\n",
       "      <th>1</th>\n",
       "      <td>2</td>\n",
       "      <td>facebook.com</td>\n",
       "    </tr>\n",
       "    <tr>\n",
       "      <th>2</th>\n",
       "      <td>3</td>\n",
       "      <td>baidu.com</td>\n",
       "    </tr>\n",
       "    <tr>\n",
       "      <th>3</th>\n",
       "      <td>4</td>\n",
       "      <td>yahoo.com</td>\n",
       "    </tr>\n",
       "    <tr>\n",
       "      <th>4</th>\n",
       "      <td>5</td>\n",
       "      <td>amazon.com</td>\n",
       "    </tr>\n",
       "  </tbody>\n",
       "</table>\n",
       "</div>"
      ],
      "text/plain": [
       "   id           url\n",
       "0   1   youtube.com\n",
       "1   2  facebook.com\n",
       "2   3     baidu.com\n",
       "3   4     yahoo.com\n",
       "4   5    amazon.com"
      ]
     },
     "execution_count": 16,
     "metadata": {},
     "output_type": "execute_result"
    }
   ],
   "source": [
    "create_pandas_table('sites').head()"
   ]
  },
  {
   "cell_type": "code",
   "execution_count": 17,
   "metadata": {
    "scrolled": true
   },
   "outputs": [
    {
     "name": "stdout",
     "output_type": "stream",
     "text": [
      "[('people', 30), ('sites', 100)]\n"
     ]
    }
   ],
   "source": [
    "# CREATE TABLE sqlite_sequence(name,seq);\n",
    "\n",
    "print(print_table_contents('sqlite_sequence', '*'))"
   ]
  },
  {
   "cell_type": "code",
   "execution_count": 18,
   "metadata": {},
   "outputs": [
    {
     "data": {
      "text/html": [
       "<div>\n",
       "<style scoped>\n",
       "    .dataframe tbody tr th:only-of-type {\n",
       "        vertical-align: middle;\n",
       "    }\n",
       "\n",
       "    .dataframe tbody tr th {\n",
       "        vertical-align: top;\n",
       "    }\n",
       "\n",
       "    .dataframe thead th {\n",
       "        text-align: right;\n",
       "    }\n",
       "</style>\n",
       "<table border=\"1\" class=\"dataframe\">\n",
       "  <thead>\n",
       "    <tr style=\"text-align: right;\">\n",
       "      <th></th>\n",
       "      <th>name</th>\n",
       "      <th>seq</th>\n",
       "    </tr>\n",
       "  </thead>\n",
       "  <tbody>\n",
       "    <tr>\n",
       "      <th>0</th>\n",
       "      <td>people</td>\n",
       "      <td>30</td>\n",
       "    </tr>\n",
       "    <tr>\n",
       "      <th>1</th>\n",
       "      <td>sites</td>\n",
       "      <td>100</td>\n",
       "    </tr>\n",
       "  </tbody>\n",
       "</table>\n",
       "</div>"
      ],
      "text/plain": [
       "     name  seq\n",
       "0  people   30\n",
       "1   sites  100"
      ]
     },
     "execution_count": 18,
     "metadata": {},
     "output_type": "execute_result"
    }
   ],
   "source": [
    "create_pandas_table('sqlite_sequence').head()"
   ]
  },
  {
   "cell_type": "code",
   "execution_count": 19,
   "metadata": {
    "scrolled": true
   },
   "outputs": [
    {
     "name": "stdout",
     "output_type": "stream",
     "text": [
      "[(17, 41, '2005-08-23 03:52:02'), (6, 58, '2015-08-25 09:03:46'), (3, 98, '2007-04-01 23:14:45'), (0, 52, '2007-12-08 13:28:58'), (6, 37, '2013-02-21 21:12:10'), (2, 58, '2015-12-02 10:18:04'), (15, 47, '2016-03-26 22:16:19'), (26, 71, '2008-03-24 23:23:38'), (26, 78, '2008-04-03 09:22:51'), (20, 49, '2014-12-05 00:31:35'), (2, 52, '2002-04-17 15:21:06'), (9, 36, '2006-02-17 23:42:49'), (21, 26, '2005-01-25 02:16:25'), (6, 67, '2002-02-13 23:50:05'), (10, 17, '2017-01-05 06:06:15'), (4, 94, '2017-09-04 17:45:58'), (17, 16, '2010-10-28 17:43:38'), (23, 87, '2009-09-15 03:40:55'), (26, 69, '2013-09-04 08:38:57'), (8, 20, '2009-08-22 06:36:31'), (6, 11, '2004-01-17 06:42:22'), (22, 69, '2003-08-24 03:01:35'), (10, 35, '2009-08-04 22:26:19'), (6, 37, '2016-03-31 03:31:56'), (21, 81, '2006-05-12 04:59:29'), (13, 49, '2015-03-14 02:40:15'), (20, 17, '2014-06-06 08:11:53'), (26, 36, '2016-11-22 02:43:06'), (19, 65, '2007-10-13 04:12:36'), (15, 4, '2012-05-12 09:56:20'), (19, 85, '2008-08-04 20:53:37'), (20, 85, '2001-07-14 11:22:05'), (7, 55, '2011-12-26 12:20:44'), (23, 89, '2017-08-16 02:12:48'), (2, 34, '2016-05-14 14:25:52'), (14, 72, '2009-06-02 13:32:11'), (14, 11, '2008-12-02 09:50:14'), (8, 47, '2000-02-16 19:55:44'), (15, 51, '2008-02-19 18:08:09'), (18, 4, '2004-06-28 18:53:25'), (4, 40, '2008-10-10 05:28:56'), (12, 53, '2012-07-21 17:34:54'), (24, 65, '2014-08-28 11:23:16'), (6, 61, '2009-12-04 13:57:25'), (28, 34, '2009-10-30 08:26:13'), (6, 47, '2000-03-21 12:03:19'), (1, 1, '2006-12-29 03:51:04'), (28, 20, '2008-01-25 14:29:29'), (1, 65, '2001-02-27 23:20:07'), (17, 12, '2004-03-18 05:07:06'), (16, 82, '2013-11-16 20:53:27'), (26, 92, '2017-02-06 09:35:35'), (28, 23, '2002-06-02 13:23:22'), (3, 68, '2010-05-07 11:12:02'), (10, 0, '2001-01-26 03:12:55'), (19, 5, '2001-07-26 22:53:51'), (14, 6, '2010-07-22 22:40:50'), (9, 66, '2006-06-19 23:31:09'), (27, 53, '2017-02-15 02:57:18'), (8, 5, '2013-04-05 19:46:13'), (22, 16, '2004-03-22 15:20:01'), (25, 23, '2018-09-04 18:51:06'), (15, 7, '2013-04-25 21:05:04'), (19, 91, '2010-03-24 19:23:03'), (5, 97, '2012-12-31 16:10:50'), (19, 2, '2011-03-07 03:41:17'), (15, 0, '2010-07-05 02:16:09'), (27, 98, '2017-03-24 04:17:29'), (14, 20, '2003-03-29 05:06:02'), (4, 25, '2017-09-07 15:26:41'), (14, 55, '2015-04-22 20:49:44'), (23, 99, '2008-08-09 00:59:08'), (9, 9, '2001-07-01 12:35:19'), (3, 47, '2012-11-21 12:09:24'), (1, 38, '2008-11-24 10:41:02'), (9, 63, '2002-04-05 04:09:18'), (13, 38, '2013-06-24 07:22:44'), (7, 12, '2004-07-10 23:15:48'), (19, 51, '2017-03-02 05:58:03'), (24, 15, '2012-10-11 00:13:32'), (24, 53, '2009-11-15 22:15:54'), (8, 70, '2004-08-22 15:36:43'), (3, 83, '2011-05-08 23:37:01'), (0, 0, '2014-01-22 18:20:25'), (24, 73, '2011-09-06 14:43:28'), (8, 15, '2001-04-12 13:20:44'), (4, 15, '2000-05-08 03:20:33'), (3, 25, '2015-08-27 15:49:45'), (26, 40, '2009-12-08 21:06:34'), (15, 27, '2010-08-03 02:39:25'), (24, 38, '2011-01-27 21:31:02'), (14, 66, '2009-06-12 17:38:29'), (19, 41, '2001-11-12 19:35:36'), (4, 12, '2015-06-28 19:47:38'), (10, 63, '2012-04-27 18:05:59'), (17, 4, '2002-05-17 13:46:23'), (22, 17, '2001-06-16 18:32:48'), (3, 45, '2006-01-16 05:24:43'), (17, 18, '2012-01-25 19:58:06'), (23, 78, '2006-03-02 17:02:23'), (18, 37, '2017-07-09 00:53:41'), (10, 87, '2007-05-12 16:49:19'), (10, 55, '2008-10-16 12:36:35'), (0, 47, '2009-01-19 02:18:12'), (5, 40, '2015-09-24 04:55:04'), (10, 26, '2004-11-18 14:07:05'), (28, 39, '2015-08-28 03:15:12'), (11, 32, '2018-03-01 14:32:06'), (23, 75, '2014-02-03 15:42:54'), (0, 71, '2017-09-15 03:33:58'), (28, 90, '2017-01-14 21:29:50'), (17, 10, '2017-08-18 11:44:03'), (22, 31, '2013-12-30 01:51:31'), (28, 27, '2011-03-13 06:51:22'), (0, 36, '2000-05-12 15:50:09'), (0, 92, '2011-06-10 05:56:27'), (21, 26, '2005-08-28 16:14:49'), (15, 70, '2016-10-26 15:15:29'), (17, 3, '2001-08-08 23:44:01'), (20, 26, '2004-05-15 15:57:35'), (26, 42, '2003-07-16 11:42:32'), (22, 36, '2018-05-10 07:41:42'), (6, 97, '2000-09-08 03:37:07'), (2, 12, '2009-12-21 15:11:56'), (3, 75, '2013-09-17 14:06:10'), (3, 12, '2010-05-29 07:04:23'), (11, 28, '2002-08-01 12:07:04'), (3, 4, '2009-07-05 11:17:07'), (9, 90, '2015-08-17 19:17:51'), (7, 57, '2009-11-23 22:52:27'), (5, 90, '2005-06-09 04:06:53'), (12, 71, '2018-10-13 20:32:04'), (1, 89, '2006-01-17 23:04:02'), (3, 36, '2000-04-11 19:00:40'), (11, 9, '2018-03-18 00:23:45'), (20, 46, '2015-09-10 08:46:58'), (10, 0, '2013-07-04 08:52:40'), (6, 56, '2007-04-15 10:05:23'), (6, 66, '2015-09-27 16:29:35'), (19, 35, '2007-10-10 05:15:54'), (6, 63, '2005-01-31 12:34:01'), (4, 37, '2017-07-01 22:42:30'), (9, 95, '2000-05-08 05:42:53'), (11, 78, '2009-10-08 07:41:12'), (5, 66, '2017-06-02 19:02:05'), (24, 29, '2004-03-18 00:14:45'), (2, 69, '2006-12-21 01:33:06'), (11, 19, '2001-11-30 09:00:51'), (6, 11, '2010-12-22 11:15:02'), (19, 33, '2001-02-11 02:11:51'), (2, 84, '2011-02-15 10:31:36'), (28, 44, '2010-07-14 06:58:16'), (3, 86, '2005-01-13 03:00:10'), (11, 47, '2018-01-27 03:34:47'), (22, 92, '2004-03-05 21:43:16'), (6, 25, '2014-03-09 19:24:54'), (22, 53, '2004-10-04 01:18:23'), (12, 89, '2014-03-14 02:46:39'), (2, 89, '2001-09-25 01:42:40'), (3, 59, '2012-12-17 13:21:50'), (27, 60, '2009-09-19 17:36:11'), (22, 53, '2004-03-29 12:00:40'), (13, 19, '2007-06-26 06:14:28'), (25, 30, '2003-10-29 21:53:57'), (16, 65, '2016-11-28 02:31:31'), (26, 91, '2012-08-13 17:54:12'), (6, 91, '2004-10-31 22:14:22'), (14, 10, '2011-12-27 20:51:50'), (5, 57, '2016-03-04 15:20:04'), (20, 25, '2008-03-05 08:46:33'), (19, 83, '2005-09-28 02:38:38'), (7, 76, '2008-03-08 16:12:14'), (14, 7, '2011-09-28 19:44:26'), (2, 4, '2011-10-03 16:11:16'), (14, 55, '2012-02-09 03:33:22'), (14, 56, '2018-10-30 23:16:58'), (19, 5, '2019-01-24 21:16:55'), (28, 35, '2006-10-19 00:36:15'), (14, 90, '2009-05-03 00:21:28'), (25, 63, '2010-01-11 23:26:32'), (5, 63, '2003-03-16 20:52:55'), (3, 51, '2003-05-06 14:30:59'), (11, 78, '2009-07-24 08:06:29'), (19, 40, '2007-02-14 13:33:00'), (18, 36, '2014-04-30 05:16:21'), (1, 93, '2014-09-16 00:07:51'), (5, 16, '2018-12-18 18:27:40'), (2, 64, '2001-06-01 02:32:58'), (6, 46, '2017-02-19 07:58:33'), (17, 64, '2001-02-04 17:41:11'), (5, 9, '2000-12-16 21:20:37'), (26, 34, '2008-04-15 10:37:33'), (28, 80, '2015-02-07 02:39:53'), (6, 17, '2002-04-20 05:56:19'), (3, 43, '2010-10-09 14:18:09'), (2, 4, '2004-10-19 22:59:01'), (2, 93, '2015-09-07 23:59:19'), (19, 37, '2003-01-22 13:23:35'), (15, 80, '2015-12-08 23:35:32'), (15, 79, '2003-12-19 19:45:38'), (7, 80, '2000-08-01 02:20:47'), (16, 28, '2000-03-14 05:27:18'), (18, 53, '2007-06-09 14:18:32'), (19, 34, '2008-05-30 21:46:53'), (27, 68, '2000-03-30 22:47:39'), (2, 66, '2014-12-15 23:46:41'), (12, 97, '2006-12-12 09:19:41'), (9, 34, '2004-12-14 14:50:30'), (16, 64, '2019-02-17 03:14:35'), (2, 51, '2007-04-28 21:54:31'), (23, 44, '2007-08-06 04:46:41'), (4, 1, '2007-10-17 10:47:20'), (9, 4, '2005-02-22 06:49:38'), (14, 27, '2015-03-23 05:20:04'), (0, 7, '2011-08-30 03:14:23'), (14, 93, '2002-11-25 18:29:30'), (12, 33, '2000-04-12 11:12:52'), (18, 17, '2018-01-06 02:58:07'), (23, 62, '2015-05-30 20:43:41'), (11, 58, '2017-05-14 19:08:26'), (2, 98, '2001-03-15 09:31:26'), (26, 33, '2011-02-07 11:49:59'), (3, 14, '2005-10-11 16:57:21'), (7, 46, '2017-10-27 14:25:55'), (5, 62, '2002-05-14 20:52:31'), (27, 44, '2015-08-01 22:54:54'), (11, 36, '2017-01-29 05:20:46'), (17, 20, '2010-05-30 12:09:33'), (19, 82, '2012-02-14 11:34:06'), (10, 77, '2011-09-23 06:40:08'), (20, 50, '2000-01-25 09:15:24'), (16, 59, '2016-09-13 22:39:05'), (0, 47, '2011-04-06 04:19:16'), (21, 38, '2017-12-23 09:48:39'), (22, 59, '2014-02-16 00:41:45'), (24, 7, '2005-10-15 03:47:47'), (7, 64, '2016-01-09 03:11:58'), (23, 34, '2005-05-17 07:42:36'), (9, 29, '2006-08-24 07:20:31'), (0, 9, '2005-12-22 08:40:36'), (13, 48, '2004-09-27 16:35:04'), (6, 66, '2012-12-01 07:22:58'), (15, 48, '2009-11-09 15:21:51'), (28, 38, '2010-06-11 22:00:22'), (9, 43, '2007-05-23 22:36:09'), (22, 8, '2011-09-25 10:58:55'), (4, 39, '2009-03-30 23:26:59'), (26, 12, '2016-05-24 16:39:27'), (3, 4, '2007-08-04 08:20:10'), (22, 5, '2010-08-26 23:26:14'), (1, 7, '2000-04-05 06:19:29'), (9, 81, '2014-02-06 04:53:28'), (24, 87, '2002-01-31 04:41:10'), (10, 97, '2004-11-20 13:42:11'), (30, 58, '2013-11-17 15:02:09'), (30, 53, '2014-08-04 20:52:27'), (30, 10, '2007-11-28 15:15:28'), (30, 29, '2014-11-21 10:19:47'), (30, 57, '2012-01-13 13:44:20'), (30, 98, '2012-07-26 13:40:55'), (30, 29, '2001-05-01 01:49:37'), (30, 7, '2011-09-09 13:04:09'), (30, 62, '2000-04-15 14:59:25'), (30, 42, '2016-12-18 15:08:38'), (30, 37, '2001-05-23 17:45:53'), (30, 50, '2003-10-05 23:42:12'), (30, 52, '2008-04-08 20:30:40'), (30, 14, '2006-11-12 03:26:46'), (30, 50, '2015-02-04 05:48:52'), (30, 99, '2008-01-10 15:54:03'), (30, 98, '2001-05-28 18:09:42'), (30, 36, '2010-10-24 09:03:23'), (10, 65, '2005-07-15 18:24:21'), (6, 6, '2014-06-13 04:48:38'), (27, 26, '2010-01-26 18:40:35'), (28, 4, '2004-11-20 03:15:26'), (13, 14, '2013-09-23 06:10:29'), (4, 14, '2017-12-04 00:57:19'), (11, 53, '2014-05-18 12:01:06'), (9, 29, '2015-12-31 17:53:41'), (27, 12, '2002-12-06 05:08:52'), (20, 41, '2001-01-21 12:19:25'), (19, 15, '2015-04-28 12:07:32'), (7, 35, '2009-05-29 22:49:31'), (11, 44, '2003-10-10 17:26:18'), (5, 62, '2019-02-26 21:27:17'), (15, 43, '2011-04-13 10:35:21'), (0, 36, '2014-08-14 04:06:43'), (1, 81, '2018-10-16 20:16:13'), (21, 23, '2009-01-24 18:52:29'), (19, 92, '2000-04-08 08:24:02'), (26, 57, '2003-03-31 17:33:52'), (11, 48, '2016-10-30 13:21:03'), (25, 57, '2007-08-22 15:41:42'), (1, 75, '2009-11-14 12:39:34'), (17, 92, '2003-06-10 12:03:06'), (30, 89, '2013-09-09 21:20:47'), (30, 54, '2006-04-02 02:47:44'), (30, 77, '2017-04-03 18:29:33'), (30, 82, '2012-10-12 01:29:08'), (30, 46, '2002-08-09 08:47:41'), (30, 98, '2004-07-05 14:22:38'), (30, 29, '2016-03-19 18:20:31'), (30, 3, '2007-12-03 12:10:47'), (30, 56, '2001-03-06 18:44:31'), (30, 40, '2006-08-02 23:43:58')]\n"
     ]
    }
   ],
   "source": [
    "#CREATE TABLE IF NOT EXISTS \"visits\"\n",
    "# (\n",
    "# \tpersonId int\n",
    "# \t\tconstraint people_fk\n",
    "# \t\t\treferences people (id),\n",
    "# \tsiteId int not null\n",
    "# \t\tconstraint sites_fk\n",
    "# \t\t\treferences sites (id),\n",
    "# \ttime_visited datetime\n",
    "# );\n",
    "\n",
    "print(print_table_contents('visits', '*'))"
   ]
  },
  {
   "cell_type": "code",
   "execution_count": 20,
   "metadata": {
    "scrolled": true
   },
   "outputs": [
    {
     "name": "stdout",
     "output_type": "stream",
     "text": [
      "<class 'pandas.core.frame.DataFrame'>\n",
      "RangeIndex: 306 entries, 0 to 305\n",
      "Data columns (total 3 columns):\n",
      "personId        306 non-null int64\n",
      "siteId          306 non-null int64\n",
      "time_visited    306 non-null object\n",
      "dtypes: int64(2), object(1)\n",
      "memory usage: 7.2+ KB\n"
     ]
    }
   ],
   "source": [
    "visits = create_pandas_table('visits')\n",
    "visits.info()"
   ]
  },
  {
   "cell_type": "code",
   "execution_count": 21,
   "metadata": {
    "scrolled": true
   },
   "outputs": [
    {
     "data": {
      "text/html": [
       "<div>\n",
       "<style scoped>\n",
       "    .dataframe tbody tr th:only-of-type {\n",
       "        vertical-align: middle;\n",
       "    }\n",
       "\n",
       "    .dataframe tbody tr th {\n",
       "        vertical-align: top;\n",
       "    }\n",
       "\n",
       "    .dataframe thead th {\n",
       "        text-align: right;\n",
       "    }\n",
       "</style>\n",
       "<table border=\"1\" class=\"dataframe\">\n",
       "  <thead>\n",
       "    <tr style=\"text-align: right;\">\n",
       "      <th></th>\n",
       "      <th>personId</th>\n",
       "      <th>siteId</th>\n",
       "      <th>time_visited</th>\n",
       "    </tr>\n",
       "  </thead>\n",
       "  <tbody>\n",
       "    <tr>\n",
       "      <th>0</th>\n",
       "      <td>17</td>\n",
       "      <td>41</td>\n",
       "      <td>2005-08-23 03:52:02</td>\n",
       "    </tr>\n",
       "    <tr>\n",
       "      <th>1</th>\n",
       "      <td>6</td>\n",
       "      <td>58</td>\n",
       "      <td>2015-08-25 09:03:46</td>\n",
       "    </tr>\n",
       "    <tr>\n",
       "      <th>2</th>\n",
       "      <td>3</td>\n",
       "      <td>98</td>\n",
       "      <td>2007-04-01 23:14:45</td>\n",
       "    </tr>\n",
       "    <tr>\n",
       "      <th>3</th>\n",
       "      <td>0</td>\n",
       "      <td>52</td>\n",
       "      <td>2007-12-08 13:28:58</td>\n",
       "    </tr>\n",
       "    <tr>\n",
       "      <th>4</th>\n",
       "      <td>6</td>\n",
       "      <td>37</td>\n",
       "      <td>2013-02-21 21:12:10</td>\n",
       "    </tr>\n",
       "  </tbody>\n",
       "</table>\n",
       "</div>"
      ],
      "text/plain": [
       "   personId  siteId         time_visited\n",
       "0        17      41  2005-08-23 03:52:02\n",
       "1         6      58  2015-08-25 09:03:46\n",
       "2         3      98  2007-04-01 23:14:45\n",
       "3         0      52  2007-12-08 13:28:58\n",
       "4         6      37  2013-02-21 21:12:10"
      ]
     },
     "execution_count": 21,
     "metadata": {},
     "output_type": "execute_result"
    }
   ],
   "source": [
    "visits.head()"
   ]
  },
  {
   "cell_type": "code",
   "execution_count": 22,
   "metadata": {},
   "outputs": [
    {
     "data": {
      "text/html": [
       "<div>\n",
       "<style scoped>\n",
       "    .dataframe tbody tr th:only-of-type {\n",
       "        vertical-align: middle;\n",
       "    }\n",
       "\n",
       "    .dataframe tbody tr th {\n",
       "        vertical-align: top;\n",
       "    }\n",
       "\n",
       "    .dataframe thead th {\n",
       "        text-align: right;\n",
       "    }\n",
       "</style>\n",
       "<table border=\"1\" class=\"dataframe\">\n",
       "  <thead>\n",
       "    <tr style=\"text-align: right;\">\n",
       "      <th></th>\n",
       "      <th>personId</th>\n",
       "      <th>siteId</th>\n",
       "      <th>time_visited</th>\n",
       "    </tr>\n",
       "  </thead>\n",
       "  <tbody>\n",
       "    <tr>\n",
       "      <th>114</th>\n",
       "      <td>0</td>\n",
       "      <td>36</td>\n",
       "      <td>2000-05-12 15:50:09</td>\n",
       "    </tr>\n",
       "    <tr>\n",
       "      <th>109</th>\n",
       "      <td>0</td>\n",
       "      <td>71</td>\n",
       "      <td>2017-09-15 03:33:58</td>\n",
       "    </tr>\n",
       "    <tr>\n",
       "      <th>3</th>\n",
       "      <td>0</td>\n",
       "      <td>52</td>\n",
       "      <td>2007-12-08 13:28:58</td>\n",
       "    </tr>\n",
       "    <tr>\n",
       "      <th>239</th>\n",
       "      <td>0</td>\n",
       "      <td>9</td>\n",
       "      <td>2005-12-22 08:40:36</td>\n",
       "    </tr>\n",
       "    <tr>\n",
       "      <th>232</th>\n",
       "      <td>0</td>\n",
       "      <td>47</td>\n",
       "      <td>2011-04-06 04:19:16</td>\n",
       "    </tr>\n",
       "    <tr>\n",
       "      <th>83</th>\n",
       "      <td>0</td>\n",
       "      <td>0</td>\n",
       "      <td>2014-01-22 18:20:25</td>\n",
       "    </tr>\n",
       "    <tr>\n",
       "      <th>287</th>\n",
       "      <td>0</td>\n",
       "      <td>36</td>\n",
       "      <td>2014-08-14 04:06:43</td>\n",
       "    </tr>\n",
       "    <tr>\n",
       "      <th>103</th>\n",
       "      <td>0</td>\n",
       "      <td>47</td>\n",
       "      <td>2009-01-19 02:18:12</td>\n",
       "    </tr>\n",
       "    <tr>\n",
       "      <th>214</th>\n",
       "      <td>0</td>\n",
       "      <td>7</td>\n",
       "      <td>2011-08-30 03:14:23</td>\n",
       "    </tr>\n",
       "    <tr>\n",
       "      <th>115</th>\n",
       "      <td>0</td>\n",
       "      <td>92</td>\n",
       "      <td>2011-06-10 05:56:27</td>\n",
       "    </tr>\n",
       "    <tr>\n",
       "      <th>46</th>\n",
       "      <td>1</td>\n",
       "      <td>1</td>\n",
       "      <td>2006-12-29 03:51:04</td>\n",
       "    </tr>\n",
       "    <tr>\n",
       "      <th>132</th>\n",
       "      <td>1</td>\n",
       "      <td>89</td>\n",
       "      <td>2006-01-17 23:04:02</td>\n",
       "    </tr>\n",
       "    <tr>\n",
       "      <th>250</th>\n",
       "      <td>1</td>\n",
       "      <td>7</td>\n",
       "      <td>2000-04-05 06:19:29</td>\n",
       "    </tr>\n",
       "    <tr>\n",
       "      <th>294</th>\n",
       "      <td>1</td>\n",
       "      <td>75</td>\n",
       "      <td>2009-11-14 12:39:34</td>\n",
       "    </tr>\n",
       "    <tr>\n",
       "      <th>74</th>\n",
       "      <td>1</td>\n",
       "      <td>38</td>\n",
       "      <td>2008-11-24 10:41:02</td>\n",
       "    </tr>\n",
       "  </tbody>\n",
       "</table>\n",
       "</div>"
      ],
      "text/plain": [
       "     personId  siteId         time_visited\n",
       "114         0      36  2000-05-12 15:50:09\n",
       "109         0      71  2017-09-15 03:33:58\n",
       "3           0      52  2007-12-08 13:28:58\n",
       "239         0       9  2005-12-22 08:40:36\n",
       "232         0      47  2011-04-06 04:19:16\n",
       "83          0       0  2014-01-22 18:20:25\n",
       "287         0      36  2014-08-14 04:06:43\n",
       "103         0      47  2009-01-19 02:18:12\n",
       "214         0       7  2011-08-30 03:14:23\n",
       "115         0      92  2011-06-10 05:56:27\n",
       "46          1       1  2006-12-29 03:51:04\n",
       "132         1      89  2006-01-17 23:04:02\n",
       "250         1       7  2000-04-05 06:19:29\n",
       "294         1      75  2009-11-14 12:39:34\n",
       "74          1      38  2008-11-24 10:41:02"
      ]
     },
     "execution_count": 22,
     "metadata": {},
     "output_type": "execute_result"
    }
   ],
   "source": [
    "visits.sort_values('personId').head(15)"
   ]
  },
  {
   "cell_type": "code",
   "execution_count": 23,
   "metadata": {},
   "outputs": [
    {
     "data": {
      "text/plain": [
       "286"
      ]
     },
     "execution_count": 23,
     "metadata": {},
     "output_type": "execute_result"
    }
   ],
   "source": [
    "visits.groupby(['personId', 'siteId']).ngroups"
   ]
  },
  {
   "cell_type": "code",
   "execution_count": 24,
   "metadata": {},
   "outputs": [],
   "source": [
    "unique_sites = visits.groupby(['personId', 'siteId']).size().reset_index().rename(columns={0:'count'})"
   ]
  },
  {
   "cell_type": "code",
   "execution_count": 25,
   "metadata": {},
   "outputs": [],
   "source": [
    "unique_sites_count = unique_sites.groupby(['personId']).size().reset_index().rename(columns={0:'count'})"
   ]
  },
  {
   "cell_type": "code",
   "execution_count": 26,
   "metadata": {
    "scrolled": true
   },
   "outputs": [
    {
     "data": {
      "text/html": [
       "<div>\n",
       "<style scoped>\n",
       "    .dataframe tbody tr th:only-of-type {\n",
       "        vertical-align: middle;\n",
       "    }\n",
       "\n",
       "    .dataframe tbody tr th {\n",
       "        vertical-align: top;\n",
       "    }\n",
       "\n",
       "    .dataframe thead th {\n",
       "        text-align: right;\n",
       "    }\n",
       "</style>\n",
       "<table border=\"1\" class=\"dataframe\">\n",
       "  <thead>\n",
       "    <tr style=\"text-align: right;\">\n",
       "      <th></th>\n",
       "      <th>personId</th>\n",
       "      <th>count</th>\n",
       "    </tr>\n",
       "  </thead>\n",
       "  <tbody>\n",
       "    <tr>\n",
       "      <th>29</th>\n",
       "      <td>30</td>\n",
       "      <td>23</td>\n",
       "    </tr>\n",
       "    <tr>\n",
       "      <th>19</th>\n",
       "      <td>19</td>\n",
       "      <td>16</td>\n",
       "    </tr>\n",
       "    <tr>\n",
       "      <th>3</th>\n",
       "      <td>3</td>\n",
       "      <td>15</td>\n",
       "    </tr>\n",
       "    <tr>\n",
       "      <th>6</th>\n",
       "      <td>6</td>\n",
       "      <td>15</td>\n",
       "    </tr>\n",
       "    <tr>\n",
       "      <th>2</th>\n",
       "      <td>2</td>\n",
       "      <td>13</td>\n",
       "    </tr>\n",
       "    <tr>\n",
       "      <th>26</th>\n",
       "      <td>26</td>\n",
       "      <td>12</td>\n",
       "    </tr>\n",
       "    <tr>\n",
       "      <th>14</th>\n",
       "      <td>14</td>\n",
       "      <td>12</td>\n",
       "    </tr>\n",
       "    <tr>\n",
       "      <th>11</th>\n",
       "      <td>11</td>\n",
       "      <td>11</td>\n",
       "    </tr>\n",
       "    <tr>\n",
       "      <th>28</th>\n",
       "      <td>28</td>\n",
       "      <td>11</td>\n",
       "    </tr>\n",
       "    <tr>\n",
       "      <th>15</th>\n",
       "      <td>15</td>\n",
       "      <td>11</td>\n",
       "    </tr>\n",
       "  </tbody>\n",
       "</table>\n",
       "</div>"
      ],
      "text/plain": [
       "    personId  count\n",
       "29        30     23\n",
       "19        19     16\n",
       "3          3     15\n",
       "6          6     15\n",
       "2          2     13\n",
       "26        26     12\n",
       "14        14     12\n",
       "11        11     11\n",
       "28        28     11\n",
       "15        15     11"
      ]
     },
     "execution_count": 26,
     "metadata": {},
     "output_type": "execute_result"
    }
   ],
   "source": [
    "unique_sites_count = unique_sites_count.sort_values('count', ascending=False)\n",
    "unique_sites_count.head(10)"
   ]
  },
  {
   "cell_type": "code",
   "execution_count": 32,
   "metadata": {},
   "outputs": [
    {
     "data": {
      "text/html": [
       "<div>\n",
       "<style scoped>\n",
       "    .dataframe tbody tr th:only-of-type {\n",
       "        vertical-align: middle;\n",
       "    }\n",
       "\n",
       "    .dataframe tbody tr th {\n",
       "        vertical-align: top;\n",
       "    }\n",
       "\n",
       "    .dataframe thead th {\n",
       "        text-align: right;\n",
       "    }\n",
       "</style>\n",
       "<table border=\"1\" class=\"dataframe\">\n",
       "  <thead>\n",
       "    <tr style=\"text-align: right;\">\n",
       "      <th></th>\n",
       "      <th>count</th>\n",
       "      <th>first_name</th>\n",
       "      <th>last_name</th>\n",
       "    </tr>\n",
       "    <tr>\n",
       "      <th>personId</th>\n",
       "      <th></th>\n",
       "      <th></th>\n",
       "      <th></th>\n",
       "    </tr>\n",
       "  </thead>\n",
       "  <tbody>\n",
       "    <tr>\n",
       "      <th>30</th>\n",
       "      <td>23</td>\n",
       "      <td>Alena</td>\n",
       "      <td>Jacobson</td>\n",
       "    </tr>\n",
       "    <tr>\n",
       "      <th>19</th>\n",
       "      <td>16</td>\n",
       "      <td>Alena</td>\n",
       "      <td>Jacobson</td>\n",
       "    </tr>\n",
       "    <tr>\n",
       "      <th>3</th>\n",
       "      <td>15</td>\n",
       "      <td>Terri</td>\n",
       "      <td>Alli</td>\n",
       "    </tr>\n",
       "    <tr>\n",
       "      <th>6</th>\n",
       "      <td>15</td>\n",
       "      <td>Alvin</td>\n",
       "      <td>Bergey</td>\n",
       "    </tr>\n",
       "    <tr>\n",
       "      <th>2</th>\n",
       "      <td>13</td>\n",
       "      <td>Annabelle</td>\n",
       "      <td>Guttierrez</td>\n",
       "    </tr>\n",
       "    <tr>\n",
       "      <th>26</th>\n",
       "      <td>12</td>\n",
       "      <td>Eugena</td>\n",
       "      <td>Hanning</td>\n",
       "    </tr>\n",
       "    <tr>\n",
       "      <th>14</th>\n",
       "      <td>12</td>\n",
       "      <td>Joselyn</td>\n",
       "      <td>Navarette</td>\n",
       "    </tr>\n",
       "    <tr>\n",
       "      <th>11</th>\n",
       "      <td>11</td>\n",
       "      <td>Shayla</td>\n",
       "      <td>Brunner</td>\n",
       "    </tr>\n",
       "    <tr>\n",
       "      <th>28</th>\n",
       "      <td>11</td>\n",
       "      <td>Jaimee</td>\n",
       "      <td>Siniard</td>\n",
       "    </tr>\n",
       "    <tr>\n",
       "      <th>15</th>\n",
       "      <td>11</td>\n",
       "      <td>Temeka</td>\n",
       "      <td>Welke</td>\n",
       "    </tr>\n",
       "  </tbody>\n",
       "</table>\n",
       "</div>"
      ],
      "text/plain": [
       "          count first_name   last_name\n",
       "personId                              \n",
       "30           23      Alena    Jacobson\n",
       "19           16      Alena    Jacobson\n",
       "3            15      Terri        Alli\n",
       "6            15      Alvin      Bergey\n",
       "2            13  Annabelle  Guttierrez\n",
       "26           12     Eugena     Hanning\n",
       "14           12    Joselyn   Navarette\n",
       "11           11     Shayla     Brunner\n",
       "28           11     Jaimee     Siniard\n",
       "15           11     Temeka       Welke"
      ]
     },
     "execution_count": 32,
     "metadata": {},
     "output_type": "execute_result"
    }
   ],
   "source": [
    "pd.merge(unique_sites_count, people, on='personId').set_index('personId').head(10)"
   ]
  },
  {
   "cell_type": "code",
   "execution_count": 28,
   "metadata": {},
   "outputs": [],
   "source": [
    "import pandas as pd\n",
    "def sql_select_to_df(SQL_COMMAND, cur=cursor):\n",
    "    results = cur.execute(SQL_COMMAND).fetchall()\n",
    "    df = pd.DataFrame(results)\n",
    "    df.columns = [i[0] for i in cur.description]\n",
    "    return df\n"
   ]
  },
  {
   "cell_type": "code",
   "execution_count": 29,
   "metadata": {},
   "outputs": [
    {
     "data": {
      "text/html": [
       "<div>\n",
       "<style scoped>\n",
       "    .dataframe tbody tr th:only-of-type {\n",
       "        vertical-align: middle;\n",
       "    }\n",
       "\n",
       "    .dataframe tbody tr th {\n",
       "        vertical-align: top;\n",
       "    }\n",
       "\n",
       "    .dataframe thead th {\n",
       "        text-align: right;\n",
       "    }\n",
       "</style>\n",
       "<table border=\"1\" class=\"dataframe\">\n",
       "  <thead>\n",
       "    <tr style=\"text-align: right;\">\n",
       "      <th></th>\n",
       "      <th>personId</th>\n",
       "      <th>siteId</th>\n",
       "      <th>time_visited</th>\n",
       "    </tr>\n",
       "  </thead>\n",
       "  <tbody>\n",
       "    <tr>\n",
       "      <th>0</th>\n",
       "      <td>17</td>\n",
       "      <td>41</td>\n",
       "      <td>2005-08-23 03:52:02</td>\n",
       "    </tr>\n",
       "    <tr>\n",
       "      <th>1</th>\n",
       "      <td>6</td>\n",
       "      <td>58</td>\n",
       "      <td>2015-08-25 09:03:46</td>\n",
       "    </tr>\n",
       "    <tr>\n",
       "      <th>2</th>\n",
       "      <td>3</td>\n",
       "      <td>98</td>\n",
       "      <td>2007-04-01 23:14:45</td>\n",
       "    </tr>\n",
       "    <tr>\n",
       "      <th>3</th>\n",
       "      <td>0</td>\n",
       "      <td>52</td>\n",
       "      <td>2007-12-08 13:28:58</td>\n",
       "    </tr>\n",
       "    <tr>\n",
       "      <th>4</th>\n",
       "      <td>6</td>\n",
       "      <td>37</td>\n",
       "      <td>2013-02-21 21:12:10</td>\n",
       "    </tr>\n",
       "  </tbody>\n",
       "</table>\n",
       "</div>"
      ],
      "text/plain": [
       "   personId  siteId         time_visited\n",
       "0        17      41  2005-08-23 03:52:02\n",
       "1         6      58  2015-08-25 09:03:46\n",
       "2         3      98  2007-04-01 23:14:45\n",
       "3         0      52  2007-12-08 13:28:58\n",
       "4         6      37  2013-02-21 21:12:10"
      ]
     },
     "execution_count": 29,
     "metadata": {},
     "output_type": "execute_result"
    }
   ],
   "source": [
    "df = sql_select_to_df(\"\"\"select * from visits;\"\"\")\n",
    "df.head()"
   ]
  },
  {
   "cell_type": "code",
   "execution_count": null,
   "metadata": {},
   "outputs": [],
   "source": []
  }
 ],
 "metadata": {
  "kernelspec": {
   "display_name": "Python 3",
   "language": "python",
   "name": "python3"
  },
  "language_info": {
   "codemirror_mode": {
    "name": "ipython",
    "version": 3
   },
   "file_extension": ".py",
   "mimetype": "text/x-python",
   "name": "python",
   "nbconvert_exporter": "python",
   "pygments_lexer": "ipython3",
   "version": "3.7.2"
  }
 },
 "nbformat": 4,
 "nbformat_minor": 2
}
